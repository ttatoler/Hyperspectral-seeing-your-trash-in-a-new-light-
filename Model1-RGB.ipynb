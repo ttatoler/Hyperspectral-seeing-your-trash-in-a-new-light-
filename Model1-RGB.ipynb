{
 "cells": [
  {
   "cell_type": "code",
   "execution_count": 1,
   "id": "cca772fc-5876-4785-b03d-60019b3874da",
   "metadata": {},
   "outputs": [
    {
     "name": "stdout",
     "output_type": "stream",
     "text": [
      "Using device: cuda\n",
      "Dataset created with 514 samples\n",
      "Generating stratification labels...\n",
      "Found 482 images with foreground classes and 32 background-only images\n",
      "Split dataset: 411 training samples, 103 validation samples\n",
      "Computing class weights...\n"
     ]
    },
    {
     "name": "stderr",
     "output_type": "stream",
     "text": [
      "Collecting mask pixels: 100%|██████████| 411/411 [00:04<00:00, 94.89it/s] \n"
     ]
    },
    {
     "name": "stdout",
     "output_type": "stream",
     "text": [
      "Computed class weights: tensor([1.7419e-02, 2.6494e+00, 4.6434e+00, 2.4004e+01, 1.2096e+01, 1.5630e+02,\n",
      "        1.8675e+00], device='cuda:0')\n",
      "\n",
      "Epoch 1/50\n"
     ]
    },
    {
     "name": "stderr",
     "output_type": "stream",
     "text": [
      "Training: 100%|██████████| 26/26 [00:06<00:00,  3.78it/s, loss=0.989]\n"
     ]
    },
    {
     "name": "stdout",
     "output_type": "stream",
     "text": [
      "Epoch [1/50], Train Loss: 1.1187, Train Mean IoU: 0.0498\n",
      "Train IoU per Class:\n",
      "  film: 0.0933\n",
      "  basket: 0.0420\n",
      "  cardboard: 0.0266\n",
      "  video_tape: 0.1323\n",
      "  filament: 0.0043\n",
      "  bag: 0.0005\n"
     ]
    },
    {
     "name": "stderr",
     "output_type": "stream",
     "text": [
      "Validation: 100%|██████████| 7/7 [00:00<00:00, 10.93it/s]\n"
     ]
    },
    {
     "name": "stdout",
     "output_type": "stream",
     "text": [
      "Epoch [1/50], Val Loss: 1.0960, Val Mean IoU: 0.0573\n",
      "Validation IoU per Class:\n",
      "  film: 0.1199\n",
      "  basket: 0.0541\n",
      "  cardboard: 0.0371\n",
      "  video_tape: 0.1282\n",
      "  filament: 0.0037\n",
      "  bag: 0.0007\n",
      "Classes present in predictions: ['film', 'basket', 'cardboard', 'video_tape', 'filament', 'bag']\n",
      "Classes present in ground truth: ['film', 'basket', 'cardboard', 'video_tape', 'filament', 'bag']\n",
      "New best IoU achieved: 0.0573 (previous: 0.0000)\n",
      "Best model saved!\n",
      "--------------------------------------------------\n",
      "\n",
      "Epoch 2/50\n"
     ]
    },
    {
     "name": "stderr",
     "output_type": "stream",
     "text": [
      "Training: 100%|██████████| 26/26 [00:06<00:00,  3.75it/s, loss=0.854]\n"
     ]
    },
    {
     "name": "stdout",
     "output_type": "stream",
     "text": [
      "Epoch [2/50], Train Loss: 0.9261, Train Mean IoU: 0.0879\n",
      "Train IoU per Class:\n",
      "  film: 0.2009\n",
      "  basket: 0.0657\n",
      "  cardboard: 0.0413\n",
      "  video_tape: 0.0526\n",
      "  filament: 0.0033\n",
      "  bag: 0.1636\n"
     ]
    },
    {
     "name": "stderr",
     "output_type": "stream",
     "text": [
      "Validation: 100%|██████████| 7/7 [00:00<00:00, 10.90it/s]\n"
     ]
    },
    {
     "name": "stdout",
     "output_type": "stream",
     "text": [
      "Epoch [2/50], Val Loss: 0.8828, Val Mean IoU: 0.0938\n",
      "Validation IoU per Class:\n",
      "  film: 0.1897\n",
      "  basket: 0.0806\n",
      "  cardboard: 0.0552\n",
      "  video_tape: 0.0517\n",
      "  filament: 0.0054\n",
      "  bag: 0.1802\n",
      "Classes present in predictions: ['film', 'basket', 'cardboard', 'video_tape', 'filament', 'bag']\n",
      "Classes present in ground truth: ['film', 'basket', 'cardboard', 'video_tape', 'filament', 'bag']\n",
      "New best IoU achieved: 0.0938 (previous: 0.0573)\n",
      "Best model saved!\n",
      "--------------------------------------------------\n",
      "\n",
      "Epoch 3/50\n"
     ]
    },
    {
     "name": "stderr",
     "output_type": "stream",
     "text": [
      "Training: 100%|██████████| 26/26 [00:06<00:00,  3.91it/s, loss=0.958]\n"
     ]
    },
    {
     "name": "stdout",
     "output_type": "stream",
     "text": [
      "Epoch [3/50], Train Loss: 0.7955, Train Mean IoU: 0.1233\n",
      "Train IoU per Class:\n",
      "  film: 0.2897\n",
      "  basket: 0.0899\n",
      "  cardboard: 0.0264\n",
      "  video_tape: 0.0688\n",
      "  filament: 0.0076\n",
      "  bag: 0.2577\n"
     ]
    },
    {
     "name": "stderr",
     "output_type": "stream",
     "text": [
      "Validation: 100%|██████████| 7/7 [00:00<00:00,  8.35it/s]\n"
     ]
    },
    {
     "name": "stdout",
     "output_type": "stream",
     "text": [
      "Epoch [3/50], Val Loss: 0.7760, Val Mean IoU: 0.1272\n",
      "Validation IoU per Class:\n",
      "  film: 0.2763\n",
      "  basket: 0.1059\n",
      "  cardboard: 0.0300\n",
      "  video_tape: 0.0628\n",
      "  filament: 0.0073\n",
      "  bag: 0.2808\n",
      "Classes present in predictions: ['film', 'basket', 'cardboard', 'video_tape', 'filament', 'bag']\n",
      "Classes present in ground truth: ['film', 'basket', 'cardboard', 'video_tape', 'filament', 'bag']\n",
      "New best IoU achieved: 0.1272 (previous: 0.0938)\n",
      "Best model saved!\n",
      "--------------------------------------------------\n",
      "\n",
      "Epoch 4/50\n"
     ]
    },
    {
     "name": "stderr",
     "output_type": "stream",
     "text": [
      "Training: 100%|██████████| 26/26 [00:06<00:00,  4.20it/s, loss=0.753]\n"
     ]
    },
    {
     "name": "stdout",
     "output_type": "stream",
     "text": [
      "Epoch [4/50], Train Loss: 0.6961, Train Mean IoU: 0.1406\n",
      "Train IoU per Class:\n",
      "  film: 0.2651\n",
      "  basket: 0.1682\n",
      "  cardboard: 0.0226\n",
      "  video_tape: 0.0840\n",
      "  filament: 0.0058\n",
      "  bag: 0.2981\n"
     ]
    },
    {
     "name": "stderr",
     "output_type": "stream",
     "text": [
      "Validation: 100%|██████████| 7/7 [00:01<00:00,  3.68it/s]\n"
     ]
    },
    {
     "name": "stdout",
     "output_type": "stream",
     "text": [
      "Epoch [4/50], Val Loss: 0.7182, Val Mean IoU: 0.1412\n",
      "Validation IoU per Class:\n",
      "  film: 0.2612\n",
      "  basket: 0.1954\n",
      "  cardboard: 0.0182\n",
      "  video_tape: 0.0778\n",
      "  filament: 0.0063\n",
      "  bag: 0.2885\n",
      "Classes present in predictions: ['film', 'basket', 'cardboard', 'video_tape', 'filament', 'bag']\n",
      "Classes present in ground truth: ['film', 'basket', 'cardboard', 'video_tape', 'filament', 'bag']\n",
      "New best IoU achieved: 0.1412 (previous: 0.1272)\n",
      "Best model saved!\n",
      "--------------------------------------------------\n",
      "\n",
      "Epoch 5/50\n"
     ]
    },
    {
     "name": "stderr",
     "output_type": "stream",
     "text": [
      "Training: 100%|██████████| 26/26 [00:04<00:00,  5.20it/s, loss=0.779]\n"
     ]
    },
    {
     "name": "stdout",
     "output_type": "stream",
     "text": [
      "Epoch [5/50], Train Loss: 0.6020, Train Mean IoU: 0.1551\n",
      "Train IoU per Class:\n",
      "  film: 0.2993\n",
      "  basket: 0.1017\n",
      "  cardboard: 0.0431\n",
      "  video_tape: 0.0997\n",
      "  filament: 0.0048\n",
      "  bag: 0.3819\n"
     ]
    },
    {
     "name": "stderr",
     "output_type": "stream",
     "text": [
      "Validation: 100%|██████████| 7/7 [00:00<00:00,  8.81it/s]\n"
     ]
    },
    {
     "name": "stdout",
     "output_type": "stream",
     "text": [
      "Epoch [5/50], Val Loss: 0.7063, Val Mean IoU: 0.1523\n",
      "Validation IoU per Class:\n",
      "  film: 0.2749\n",
      "  basket: 0.1177\n",
      "  cardboard: 0.0414\n",
      "  video_tape: 0.0984\n",
      "  filament: 0.0041\n",
      "  bag: 0.3769\n",
      "Classes present in predictions: ['film', 'basket', 'cardboard', 'video_tape', 'filament', 'bag']\n",
      "Classes present in ground truth: ['film', 'basket', 'cardboard', 'video_tape', 'filament', 'bag']\n",
      "New best IoU achieved: 0.1523 (previous: 0.1412)\n",
      "Best model saved!\n",
      "--------------------------------------------------\n",
      "\n",
      "Epoch 6/50\n"
     ]
    },
    {
     "name": "stderr",
     "output_type": "stream",
     "text": [
      "Training: 100%|██████████| 26/26 [00:05<00:00,  4.90it/s, loss=0.502]\n"
     ]
    },
    {
     "name": "stdout",
     "output_type": "stream",
     "text": [
      "Epoch [6/50], Train Loss: 0.5409, Train Mean IoU: 0.2247\n",
      "Train IoU per Class:\n",
      "  film: 0.4413\n",
      "  basket: 0.4052\n",
      "  cardboard: 0.0257\n",
      "  video_tape: 0.0702\n",
      "  filament: 0.0070\n",
      "  bag: 0.3990\n"
     ]
    },
    {
     "name": "stderr",
     "output_type": "stream",
     "text": [
      "Validation: 100%|██████████| 7/7 [00:00<00:00, 10.52it/s]\n"
     ]
    },
    {
     "name": "stdout",
     "output_type": "stream",
     "text": [
      "Epoch [6/50], Val Loss: 0.6883, Val Mean IoU: 0.1974\n",
      "Validation IoU per Class:\n",
      "  film: 0.3581\n",
      "  basket: 0.3962\n",
      "  cardboard: 0.0253\n",
      "  video_tape: 0.0650\n",
      "  filament: 0.0068\n",
      "  bag: 0.3328\n",
      "Classes present in predictions: ['film', 'basket', 'cardboard', 'video_tape', 'filament', 'bag']\n",
      "Classes present in ground truth: ['film', 'basket', 'cardboard', 'video_tape', 'filament', 'bag']\n",
      "New best IoU achieved: 0.1974 (previous: 0.1523)\n",
      "Best model saved!\n",
      "--------------------------------------------------\n",
      "\n",
      "Epoch 7/50\n"
     ]
    },
    {
     "name": "stderr",
     "output_type": "stream",
     "text": [
      "Training: 100%|██████████| 26/26 [00:05<00:00,  4.91it/s, loss=0.487]\n"
     ]
    },
    {
     "name": "stdout",
     "output_type": "stream",
     "text": [
      "Epoch [7/50], Train Loss: 0.4911, Train Mean IoU: 0.2538\n",
      "Train IoU per Class:\n",
      "  film: 0.4561\n",
      "  basket: 0.4492\n",
      "  cardboard: 0.0383\n",
      "  video_tape: 0.0637\n",
      "  filament: 0.0044\n",
      "  bag: 0.5111\n"
     ]
    },
    {
     "name": "stderr",
     "output_type": "stream",
     "text": [
      "Validation: 100%|██████████| 7/7 [00:00<00:00,  9.98it/s]\n"
     ]
    },
    {
     "name": "stdout",
     "output_type": "stream",
     "text": [
      "Epoch [7/50], Val Loss: 0.6357, Val Mean IoU: 0.2226\n",
      "Validation IoU per Class:\n",
      "  film: 0.3899\n",
      "  basket: 0.4318\n",
      "  cardboard: 0.0390\n",
      "  video_tape: 0.0609\n",
      "  filament: 0.0045\n",
      "  bag: 0.4093\n",
      "Classes present in predictions: ['film', 'basket', 'cardboard', 'video_tape', 'filament', 'bag']\n",
      "Classes present in ground truth: ['film', 'basket', 'cardboard', 'video_tape', 'filament', 'bag']\n",
      "New best IoU achieved: 0.2226 (previous: 0.1974)\n",
      "Best model saved!\n",
      "--------------------------------------------------\n",
      "\n",
      "Epoch 8/50\n"
     ]
    },
    {
     "name": "stderr",
     "output_type": "stream",
     "text": [
      "Training: 100%|██████████| 26/26 [00:04<00:00,  5.24it/s, loss=0.441]\n"
     ]
    },
    {
     "name": "stdout",
     "output_type": "stream",
     "text": [
      "Epoch [8/50], Train Loss: 0.4585, Train Mean IoU: 0.2440\n",
      "Train IoU per Class:\n",
      "  film: 0.3941\n",
      "  basket: 0.4314\n",
      "  cardboard: 0.0475\n",
      "  video_tape: 0.0945\n",
      "  filament: 0.0047\n",
      "  bag: 0.4917\n"
     ]
    },
    {
     "name": "stderr",
     "output_type": "stream",
     "text": [
      "Validation: 100%|██████████| 7/7 [00:01<00:00,  3.97it/s]\n"
     ]
    },
    {
     "name": "stdout",
     "output_type": "stream",
     "text": [
      "Epoch [8/50], Val Loss: 0.6215, Val Mean IoU: 0.2194\n",
      "Validation IoU per Class:\n",
      "  film: 0.3264\n",
      "  basket: 0.4561\n",
      "  cardboard: 0.0483\n",
      "  video_tape: 0.0867\n",
      "  filament: 0.0048\n",
      "  bag: 0.3943\n",
      "Classes present in predictions: ['film', 'basket', 'cardboard', 'video_tape', 'filament', 'bag']\n",
      "Classes present in ground truth: ['film', 'basket', 'cardboard', 'video_tape', 'filament', 'bag']\n",
      "--------------------------------------------------\n",
      "\n",
      "Epoch 9/50\n"
     ]
    },
    {
     "name": "stderr",
     "output_type": "stream",
     "text": [
      "Training: 100%|██████████| 26/26 [00:03<00:00,  7.05it/s, loss=0.435]\n"
     ]
    },
    {
     "name": "stdout",
     "output_type": "stream",
     "text": [
      "Epoch [9/50], Train Loss: 0.4406, Train Mean IoU: 0.2758\n",
      "Train IoU per Class:\n",
      "  film: 0.4738\n",
      "  basket: 0.4788\n",
      "  cardboard: 0.0546\n",
      "  video_tape: 0.0903\n",
      "  filament: 0.0054\n",
      "  bag: 0.5520\n"
     ]
    },
    {
     "name": "stderr",
     "output_type": "stream",
     "text": [
      "Validation: 100%|██████████| 7/7 [00:00<00:00,  8.48it/s]\n"
     ]
    },
    {
     "name": "stdout",
     "output_type": "stream",
     "text": [
      "Epoch [9/50], Val Loss: 0.6226, Val Mean IoU: 0.2404\n",
      "Validation IoU per Class:\n",
      "  film: 0.3774\n",
      "  basket: 0.4796\n",
      "  cardboard: 0.0589\n",
      "  video_tape: 0.0858\n",
      "  filament: 0.0056\n",
      "  bag: 0.4353\n",
      "Classes present in predictions: ['film', 'basket', 'cardboard', 'video_tape', 'filament', 'bag']\n",
      "Classes present in ground truth: ['film', 'basket', 'cardboard', 'video_tape', 'filament', 'bag']\n",
      "New best IoU achieved: 0.2404 (previous: 0.2226)\n",
      "Best model saved!\n",
      "--------------------------------------------------\n",
      "\n",
      "Epoch 10/50\n"
     ]
    },
    {
     "name": "stderr",
     "output_type": "stream",
     "text": [
      "Training: 100%|██████████| 26/26 [00:04<00:00,  5.63it/s, loss=0.529]\n"
     ]
    },
    {
     "name": "stdout",
     "output_type": "stream",
     "text": [
      "Epoch [10/50], Train Loss: 0.4306, Train Mean IoU: 0.2664\n",
      "Train IoU per Class:\n",
      "  film: 0.4490\n",
      "  basket: 0.4778\n",
      "  cardboard: 0.0735\n",
      "  video_tape: 0.0877\n",
      "  filament: 0.0052\n",
      "  bag: 0.5051\n"
     ]
    },
    {
     "name": "stderr",
     "output_type": "stream",
     "text": [
      "Validation: 100%|██████████| 7/7 [00:00<00:00,  9.93it/s]\n"
     ]
    },
    {
     "name": "stdout",
     "output_type": "stream",
     "text": [
      "Epoch [10/50], Val Loss: 0.6415, Val Mean IoU: 0.2313\n",
      "Validation IoU per Class:\n",
      "  film: 0.3701\n",
      "  basket: 0.4808\n",
      "  cardboard: 0.0729\n",
      "  video_tape: 0.0837\n",
      "  filament: 0.0053\n",
      "  bag: 0.3748\n",
      "Classes present in predictions: ['film', 'basket', 'cardboard', 'video_tape', 'filament', 'bag']\n",
      "Classes present in ground truth: ['film', 'basket', 'cardboard', 'video_tape', 'filament', 'bag']\n",
      "--------------------------------------------------\n",
      "\n",
      "Epoch 11/50\n"
     ]
    },
    {
     "name": "stderr",
     "output_type": "stream",
     "text": [
      "Training: 100%|██████████| 26/26 [00:04<00:00,  5.26it/s, loss=0.461]\n"
     ]
    },
    {
     "name": "stdout",
     "output_type": "stream",
     "text": [
      "Epoch [11/50], Train Loss: 0.4256, Train Mean IoU: 0.3019\n",
      "Train IoU per Class:\n",
      "  film: 0.5003\n",
      "  basket: 0.5251\n",
      "  cardboard: 0.0675\n",
      "  video_tape: 0.0838\n",
      "  filament: 0.0053\n",
      "  bag: 0.6293\n"
     ]
    },
    {
     "name": "stderr",
     "output_type": "stream",
     "text": [
      "Validation: 100%|██████████| 7/7 [00:01<00:00,  3.89it/s]\n"
     ]
    },
    {
     "name": "stdout",
     "output_type": "stream",
     "text": [
      "Epoch [11/50], Val Loss: 0.5999, Val Mean IoU: 0.2582\n",
      "Validation IoU per Class:\n",
      "  film: 0.3904\n",
      "  basket: 0.5176\n",
      "  cardboard: 0.0698\n",
      "  video_tape: 0.0810\n",
      "  filament: 0.0060\n",
      "  bag: 0.4844\n",
      "Classes present in predictions: ['film', 'basket', 'cardboard', 'video_tape', 'filament', 'bag']\n",
      "Classes present in ground truth: ['film', 'basket', 'cardboard', 'video_tape', 'filament', 'bag']\n",
      "New best IoU achieved: 0.2582 (previous: 0.2404)\n",
      "Best model saved!\n",
      "--------------------------------------------------\n",
      "\n",
      "Epoch 12/50\n"
     ]
    },
    {
     "name": "stderr",
     "output_type": "stream",
     "text": [
      "Training: 100%|██████████| 26/26 [00:05<00:00,  5.03it/s, loss=0.427]\n"
     ]
    },
    {
     "name": "stdout",
     "output_type": "stream",
     "text": [
      "Epoch [12/50], Train Loss: 0.4136, Train Mean IoU: 0.2897\n",
      "Train IoU per Class:\n",
      "  film: 0.4609\n",
      "  basket: 0.4760\n",
      "  cardboard: 0.0582\n",
      "  video_tape: 0.1137\n",
      "  filament: 0.0065\n",
      "  bag: 0.6227\n"
     ]
    },
    {
     "name": "stderr",
     "output_type": "stream",
     "text": [
      "Validation: 100%|██████████| 7/7 [00:00<00:00,  7.62it/s]\n"
     ]
    },
    {
     "name": "stdout",
     "output_type": "stream",
     "text": [
      "Epoch [12/50], Val Loss: 0.6086, Val Mean IoU: 0.2491\n",
      "Validation IoU per Class:\n",
      "  film: 0.3813\n",
      "  basket: 0.4672\n",
      "  cardboard: 0.0638\n",
      "  video_tape: 0.1074\n",
      "  filament: 0.0069\n",
      "  bag: 0.4679\n",
      "Classes present in predictions: ['film', 'basket', 'cardboard', 'video_tape', 'filament', 'bag']\n",
      "Classes present in ground truth: ['film', 'basket', 'cardboard', 'video_tape', 'filament', 'bag']\n",
      "--------------------------------------------------\n",
      "\n",
      "Epoch 13/50\n"
     ]
    },
    {
     "name": "stderr",
     "output_type": "stream",
     "text": [
      "Training: 100%|██████████| 26/26 [00:05<00:00,  5.17it/s, loss=0.443]\n"
     ]
    },
    {
     "name": "stdout",
     "output_type": "stream",
     "text": [
      "Epoch [13/50], Train Loss: 0.4127, Train Mean IoU: 0.3052\n",
      "Train IoU per Class:\n",
      "  film: 0.5266\n",
      "  basket: 0.4533\n",
      "  cardboard: 0.0721\n",
      "  video_tape: 0.1048\n",
      "  filament: 0.0051\n",
      "  bag: 0.6691\n"
     ]
    },
    {
     "name": "stderr",
     "output_type": "stream",
     "text": [
      "Validation: 100%|██████████| 7/7 [00:00<00:00, 11.45it/s]\n"
     ]
    },
    {
     "name": "stdout",
     "output_type": "stream",
     "text": [
      "Epoch [13/50], Val Loss: 0.6051, Val Mean IoU: 0.2567\n",
      "Validation IoU per Class:\n",
      "  film: 0.4230\n",
      "  basket: 0.4631\n",
      "  cardboard: 0.0762\n",
      "  video_tape: 0.0949\n",
      "  filament: 0.0057\n",
      "  bag: 0.4774\n",
      "Classes present in predictions: ['film', 'basket', 'cardboard', 'video_tape', 'filament', 'bag']\n",
      "Classes present in ground truth: ['film', 'basket', 'cardboard', 'video_tape', 'filament', 'bag']\n",
      "--------------------------------------------------\n",
      "\n",
      "Epoch 14/50\n"
     ]
    },
    {
     "name": "stderr",
     "output_type": "stream",
     "text": [
      "Training: 100%|██████████| 26/26 [00:05<00:00,  4.80it/s, loss=0.386]\n"
     ]
    },
    {
     "name": "stdout",
     "output_type": "stream",
     "text": [
      "Epoch [14/50], Train Loss: 0.4050, Train Mean IoU: 0.2862\n",
      "Train IoU per Class:\n",
      "  film: 0.4585\n",
      "  basket: 0.4860\n",
      "  cardboard: 0.0622\n",
      "  video_tape: 0.1069\n",
      "  filament: 0.0087\n",
      "  bag: 0.5950\n"
     ]
    },
    {
     "name": "stderr",
     "output_type": "stream",
     "text": [
      "Validation: 100%|██████████| 7/7 [00:01<00:00,  3.73it/s]\n"
     ]
    },
    {
     "name": "stdout",
     "output_type": "stream",
     "text": [
      "Epoch [14/50], Val Loss: 0.6241, Val Mean IoU: 0.2459\n",
      "Validation IoU per Class:\n",
      "  film: 0.3802\n",
      "  basket: 0.4717\n",
      "  cardboard: 0.0673\n",
      "  video_tape: 0.0991\n",
      "  filament: 0.0073\n",
      "  bag: 0.4499\n",
      "Classes present in predictions: ['film', 'basket', 'cardboard', 'video_tape', 'filament', 'bag']\n",
      "Classes present in ground truth: ['film', 'basket', 'cardboard', 'video_tape', 'filament', 'bag']\n",
      "--------------------------------------------------\n",
      "\n",
      "Epoch 15/50\n"
     ]
    },
    {
     "name": "stderr",
     "output_type": "stream",
     "text": [
      "Training: 100%|██████████| 26/26 [00:05<00:00,  5.17it/s, loss=0.379]\n"
     ]
    },
    {
     "name": "stdout",
     "output_type": "stream",
     "text": [
      "Epoch [15/50], Train Loss: 0.3908, Train Mean IoU: 0.3327\n",
      "Train IoU per Class:\n",
      "  film: 0.5841\n",
      "  basket: 0.5713\n",
      "  cardboard: 0.0649\n",
      "  video_tape: 0.1253\n",
      "  filament: 0.0058\n",
      "  bag: 0.6448\n"
     ]
    },
    {
     "name": "stderr",
     "output_type": "stream",
     "text": [
      "Validation: 100%|██████████| 7/7 [00:02<00:00,  3.25it/s]\n"
     ]
    },
    {
     "name": "stdout",
     "output_type": "stream",
     "text": [
      "Epoch [15/50], Val Loss: 0.5984, Val Mean IoU: 0.2755\n",
      "Validation IoU per Class:\n",
      "  film: 0.4412\n",
      "  basket: 0.5540\n",
      "  cardboard: 0.0707\n",
      "  video_tape: 0.1118\n",
      "  filament: 0.0062\n",
      "  bag: 0.4694\n",
      "Classes present in predictions: ['film', 'basket', 'cardboard', 'video_tape', 'filament', 'bag']\n",
      "Classes present in ground truth: ['film', 'basket', 'cardboard', 'video_tape', 'filament', 'bag']\n",
      "New best IoU achieved: 0.2755 (previous: 0.2582)\n",
      "Best model saved!\n",
      "--------------------------------------------------\n",
      "\n",
      "Epoch 16/50\n"
     ]
    },
    {
     "name": "stderr",
     "output_type": "stream",
     "text": [
      "Training: 100%|██████████| 26/26 [00:05<00:00,  4.85it/s, loss=0.354]\n"
     ]
    },
    {
     "name": "stdout",
     "output_type": "stream",
     "text": [
      "Epoch [16/50], Train Loss: 0.3849, Train Mean IoU: 0.3471\n",
      "Train IoU per Class:\n",
      "  film: 0.6303\n",
      "  basket: 0.5492\n",
      "  cardboard: 0.1000\n",
      "  video_tape: 0.0997\n",
      "  filament: 0.0052\n",
      "  bag: 0.6983\n"
     ]
    },
    {
     "name": "stderr",
     "output_type": "stream",
     "text": [
      "Validation: 100%|██████████| 7/7 [00:01<00:00,  4.17it/s]\n"
     ]
    },
    {
     "name": "stdout",
     "output_type": "stream",
     "text": [
      "Epoch [16/50], Val Loss: 0.6047, Val Mean IoU: 0.2808\n",
      "Validation IoU per Class:\n",
      "  film: 0.4872\n",
      "  basket: 0.5049\n",
      "  cardboard: 0.1005\n",
      "  video_tape: 0.0885\n",
      "  filament: 0.0056\n",
      "  bag: 0.4978\n",
      "Classes present in predictions: ['film', 'basket', 'cardboard', 'video_tape', 'filament', 'bag']\n",
      "Classes present in ground truth: ['film', 'basket', 'cardboard', 'video_tape', 'filament', 'bag']\n",
      "New best IoU achieved: 0.2808 (previous: 0.2755)\n",
      "Best model saved!\n",
      "--------------------------------------------------\n",
      "\n",
      "Epoch 17/50\n"
     ]
    },
    {
     "name": "stderr",
     "output_type": "stream",
     "text": [
      "Training: 100%|██████████| 26/26 [00:03<00:00,  6.86it/s, loss=0.38] \n"
     ]
    },
    {
     "name": "stdout",
     "output_type": "stream",
     "text": [
      "Epoch [17/50], Train Loss: 0.3741, Train Mean IoU: 0.3544\n",
      "Train IoU per Class:\n",
      "  film: 0.6713\n",
      "  basket: 0.5658\n",
      "  cardboard: 0.1354\n",
      "  video_tape: 0.1152\n",
      "  filament: 0.0050\n",
      "  bag: 0.6336\n"
     ]
    },
    {
     "name": "stderr",
     "output_type": "stream",
     "text": [
      "Validation: 100%|██████████| 7/7 [00:00<00:00,  9.31it/s]\n"
     ]
    },
    {
     "name": "stdout",
     "output_type": "stream",
     "text": [
      "Epoch [17/50], Val Loss: 0.6066, Val Mean IoU: 0.2848\n",
      "Validation IoU per Class:\n",
      "  film: 0.4847\n",
      "  basket: 0.5500\n",
      "  cardboard: 0.1310\n",
      "  video_tape: 0.1011\n",
      "  filament: 0.0060\n",
      "  bag: 0.4362\n",
      "Classes present in predictions: ['film', 'basket', 'cardboard', 'video_tape', 'filament', 'bag']\n",
      "Classes present in ground truth: ['film', 'basket', 'cardboard', 'video_tape', 'filament', 'bag']\n",
      "New best IoU achieved: 0.2848 (previous: 0.2808)\n",
      "Best model saved!\n",
      "--------------------------------------------------\n",
      "\n",
      "Epoch 18/50\n"
     ]
    },
    {
     "name": "stderr",
     "output_type": "stream",
     "text": [
      "Training: 100%|██████████| 26/26 [00:05<00:00,  4.95it/s, loss=0.382]\n"
     ]
    },
    {
     "name": "stdout",
     "output_type": "stream",
     "text": [
      "Epoch [18/50], Train Loss: 0.3704, Train Mean IoU: 0.3599\n",
      "Train IoU per Class:\n",
      "  film: 0.6573\n",
      "  basket: 0.5781\n",
      "  cardboard: 0.1082\n",
      "  video_tape: 0.1106\n",
      "  filament: 0.0054\n",
      "  bag: 0.7000\n"
     ]
    },
    {
     "name": "stderr",
     "output_type": "stream",
     "text": [
      "Validation: 100%|██████████| 7/7 [00:00<00:00,  8.57it/s]\n"
     ]
    },
    {
     "name": "stdout",
     "output_type": "stream",
     "text": [
      "Epoch [18/50], Val Loss: 0.6050, Val Mean IoU: 0.2883\n",
      "Validation IoU per Class:\n",
      "  film: 0.4958\n",
      "  basket: 0.5249\n",
      "  cardboard: 0.1134\n",
      "  video_tape: 0.0984\n",
      "  filament: 0.0053\n",
      "  bag: 0.4921\n",
      "Classes present in predictions: ['film', 'basket', 'cardboard', 'video_tape', 'filament', 'bag']\n",
      "Classes present in ground truth: ['film', 'basket', 'cardboard', 'video_tape', 'filament', 'bag']\n",
      "New best IoU achieved: 0.2883 (previous: 0.2848)\n",
      "Best model saved!\n",
      "--------------------------------------------------\n",
      "\n",
      "Epoch 19/50\n"
     ]
    },
    {
     "name": "stderr",
     "output_type": "stream",
     "text": [
      "Training: 100%|██████████| 26/26 [00:04<00:00,  5.63it/s, loss=0.386]\n"
     ]
    },
    {
     "name": "stdout",
     "output_type": "stream",
     "text": [
      "Epoch [19/50], Train Loss: 0.3665, Train Mean IoU: 0.3558\n",
      "Train IoU per Class:\n",
      "  film: 0.6269\n",
      "  basket: 0.6292\n",
      "  cardboard: 0.1137\n",
      "  video_tape: 0.1414\n",
      "  filament: 0.0054\n",
      "  bag: 0.6182\n"
     ]
    },
    {
     "name": "stderr",
     "output_type": "stream",
     "text": [
      "Validation: 100%|██████████| 7/7 [00:00<00:00, 10.03it/s]\n"
     ]
    },
    {
     "name": "stdout",
     "output_type": "stream",
     "text": [
      "Epoch [19/50], Val Loss: 0.6178, Val Mean IoU: 0.2861\n",
      "Validation IoU per Class:\n",
      "  film: 0.4463\n",
      "  basket: 0.6047\n",
      "  cardboard: 0.1104\n",
      "  video_tape: 0.1259\n",
      "  filament: 0.0060\n",
      "  bag: 0.4231\n",
      "Classes present in predictions: ['film', 'basket', 'cardboard', 'video_tape', 'filament', 'bag']\n",
      "Classes present in ground truth: ['film', 'basket', 'cardboard', 'video_tape', 'filament', 'bag']\n",
      "--------------------------------------------------\n",
      "\n",
      "Epoch 20/50\n"
     ]
    },
    {
     "name": "stderr",
     "output_type": "stream",
     "text": [
      "Training: 100%|██████████| 26/26 [00:04<00:00,  5.37it/s, loss=0.368]\n"
     ]
    },
    {
     "name": "stdout",
     "output_type": "stream",
     "text": [
      "Epoch [20/50], Train Loss: 0.3577, Train Mean IoU: 0.4037\n",
      "Train IoU per Class:\n",
      "  film: 0.7204\n",
      "  basket: 0.6650\n",
      "  cardboard: 0.1834\n",
      "  video_tape: 0.1258\n",
      "  filament: 0.0044\n",
      "  bag: 0.7230\n"
     ]
    },
    {
     "name": "stderr",
     "output_type": "stream",
     "text": [
      "Validation: 100%|██████████| 7/7 [00:00<00:00, 11.34it/s]\n"
     ]
    },
    {
     "name": "stdout",
     "output_type": "stream",
     "text": [
      "Epoch [20/50], Val Loss: 0.5756, Val Mean IoU: 0.3174\n",
      "Validation IoU per Class:\n",
      "  film: 0.5131\n",
      "  basket: 0.6010\n",
      "  cardboard: 0.1541\n",
      "  video_tape: 0.1091\n",
      "  filament: 0.0054\n",
      "  bag: 0.5218\n",
      "Classes present in predictions: ['film', 'basket', 'cardboard', 'video_tape', 'filament', 'bag']\n",
      "Classes present in ground truth: ['film', 'basket', 'cardboard', 'video_tape', 'filament', 'bag']\n",
      "New best IoU achieved: 0.3174 (previous: 0.2883)\n",
      "Best model saved!\n",
      "--------------------------------------------------\n",
      "\n",
      "Epoch 21/50\n"
     ]
    },
    {
     "name": "stderr",
     "output_type": "stream",
     "text": [
      "Training: 100%|██████████| 26/26 [00:04<00:00,  5.41it/s, loss=0.349]\n"
     ]
    },
    {
     "name": "stdout",
     "output_type": "stream",
     "text": [
      "Epoch [21/50], Train Loss: 0.3494, Train Mean IoU: 0.4062\n",
      "Train IoU per Class:\n",
      "  film: 0.7060\n",
      "  basket: 0.6767\n",
      "  cardboard: 0.1105\n",
      "  video_tape: 0.1954\n",
      "  filament: 0.0045\n",
      "  bag: 0.7439\n"
     ]
    },
    {
     "name": "stderr",
     "output_type": "stream",
     "text": [
      "Validation: 100%|██████████| 7/7 [00:00<00:00, 10.59it/s]\n"
     ]
    },
    {
     "name": "stdout",
     "output_type": "stream",
     "text": [
      "Epoch [21/50], Val Loss: 0.5930, Val Mean IoU: 0.3265\n",
      "Validation IoU per Class:\n",
      "  film: 0.5059\n",
      "  basket: 0.6243\n",
      "  cardboard: 0.1112\n",
      "  video_tape: 0.1752\n",
      "  filament: 0.0044\n",
      "  bag: 0.5377\n",
      "Classes present in predictions: ['film', 'basket', 'cardboard', 'video_tape', 'filament', 'bag']\n",
      "Classes present in ground truth: ['film', 'basket', 'cardboard', 'video_tape', 'filament', 'bag']\n",
      "New best IoU achieved: 0.3265 (previous: 0.3174)\n",
      "Best model saved!\n",
      "--------------------------------------------------\n",
      "\n",
      "Epoch 22/50\n"
     ]
    },
    {
     "name": "stderr",
     "output_type": "stream",
     "text": [
      "Training: 100%|██████████| 26/26 [00:04<00:00,  5.22it/s, loss=0.351]\n"
     ]
    },
    {
     "name": "stdout",
     "output_type": "stream",
     "text": [
      "Epoch [22/50], Train Loss: 0.3488, Train Mean IoU: 0.4170\n",
      "Train IoU per Class:\n",
      "  film: 0.7213\n",
      "  basket: 0.6647\n",
      "  cardboard: 0.2035\n",
      "  video_tape: 0.1287\n",
      "  filament: 0.0048\n",
      "  bag: 0.7791\n"
     ]
    },
    {
     "name": "stderr",
     "output_type": "stream",
     "text": [
      "Validation: 100%|██████████| 7/7 [00:01<00:00,  3.91it/s]\n"
     ]
    },
    {
     "name": "stdout",
     "output_type": "stream",
     "text": [
      "Epoch [22/50], Val Loss: 0.5897, Val Mean IoU: 0.3208\n",
      "Validation IoU per Class:\n",
      "  film: 0.5161\n",
      "  basket: 0.5808\n",
      "  cardboard: 0.1645\n",
      "  video_tape: 0.1123\n",
      "  filament: 0.0050\n",
      "  bag: 0.5463\n",
      "Classes present in predictions: ['film', 'basket', 'cardboard', 'video_tape', 'filament', 'bag']\n",
      "Classes present in ground truth: ['film', 'basket', 'cardboard', 'video_tape', 'filament', 'bag']\n",
      "--------------------------------------------------\n",
      "\n",
      "Epoch 23/50\n"
     ]
    },
    {
     "name": "stderr",
     "output_type": "stream",
     "text": [
      "Training: 100%|██████████| 26/26 [00:05<00:00,  4.97it/s, loss=0.342]\n"
     ]
    },
    {
     "name": "stdout",
     "output_type": "stream",
     "text": [
      "Epoch [23/50], Train Loss: 0.3415, Train Mean IoU: 0.4463\n",
      "Train IoU per Class:\n",
      "  film: 0.7768\n",
      "  basket: 0.7024\n",
      "  cardboard: 0.2938\n",
      "  video_tape: 0.1552\n",
      "  filament: 0.0043\n",
      "  bag: 0.7454\n"
     ]
    },
    {
     "name": "stderr",
     "output_type": "stream",
     "text": [
      "Validation: 100%|██████████| 7/7 [00:00<00:00, 10.97it/s]\n"
     ]
    },
    {
     "name": "stdout",
     "output_type": "stream",
     "text": [
      "Epoch [23/50], Val Loss: 0.5949, Val Mean IoU: 0.3327\n",
      "Validation IoU per Class:\n",
      "  film: 0.5237\n",
      "  basket: 0.6240\n",
      "  cardboard: 0.2108\n",
      "  video_tape: 0.1297\n",
      "  filament: 0.0053\n",
      "  bag: 0.5028\n",
      "Classes present in predictions: ['film', 'basket', 'cardboard', 'video_tape', 'filament', 'bag']\n",
      "Classes present in ground truth: ['film', 'basket', 'cardboard', 'video_tape', 'filament', 'bag']\n",
      "New best IoU achieved: 0.3327 (previous: 0.3265)\n",
      "Best model saved!\n",
      "--------------------------------------------------\n",
      "\n",
      "Epoch 24/50\n"
     ]
    },
    {
     "name": "stderr",
     "output_type": "stream",
     "text": [
      "Training: 100%|██████████| 26/26 [00:05<00:00,  5.10it/s, loss=0.322]\n"
     ]
    },
    {
     "name": "stdout",
     "output_type": "stream",
     "text": [
      "Epoch [24/50], Train Loss: 0.3359, Train Mean IoU: 0.4537\n",
      "Train IoU per Class:\n",
      "  film: 0.7563\n",
      "  basket: 0.7286\n",
      "  cardboard: 0.3082\n",
      "  video_tape: 0.1845\n",
      "  filament: 0.0044\n",
      "  bag: 0.7403\n"
     ]
    },
    {
     "name": "stderr",
     "output_type": "stream",
     "text": [
      "Validation: 100%|██████████| 7/7 [00:00<00:00,  8.16it/s]\n"
     ]
    },
    {
     "name": "stdout",
     "output_type": "stream",
     "text": [
      "Epoch [24/50], Val Loss: 0.6056, Val Mean IoU: 0.3396\n",
      "Validation IoU per Class:\n",
      "  film: 0.5063\n",
      "  basket: 0.6314\n",
      "  cardboard: 0.2217\n",
      "  video_tape: 0.1565\n",
      "  filament: 0.0048\n",
      "  bag: 0.5166\n",
      "Classes present in predictions: ['film', 'basket', 'cardboard', 'video_tape', 'filament', 'bag']\n",
      "Classes present in ground truth: ['film', 'basket', 'cardboard', 'video_tape', 'filament', 'bag']\n",
      "New best IoU achieved: 0.3396 (previous: 0.3327)\n",
      "Best model saved!\n",
      "--------------------------------------------------\n",
      "\n",
      "Epoch 25/50\n"
     ]
    },
    {
     "name": "stderr",
     "output_type": "stream",
     "text": [
      "Training: 100%|██████████| 26/26 [00:05<00:00,  5.03it/s, loss=0.338]\n"
     ]
    },
    {
     "name": "stdout",
     "output_type": "stream",
     "text": [
      "Epoch [25/50], Train Loss: 0.3267, Train Mean IoU: 0.4653\n",
      "Train IoU per Class:\n",
      "  film: 0.8079\n",
      "  basket: 0.6934\n",
      "  cardboard: 0.3640\n",
      "  video_tape: 0.1565\n",
      "  filament: 0.0051\n",
      "  bag: 0.7652\n"
     ]
    },
    {
     "name": "stderr",
     "output_type": "stream",
     "text": [
      "Validation: 100%|██████████| 7/7 [00:00<00:00, 10.01it/s]\n"
     ]
    },
    {
     "name": "stdout",
     "output_type": "stream",
     "text": [
      "Epoch [25/50], Val Loss: 0.6050, Val Mean IoU: 0.3436\n",
      "Validation IoU per Class:\n",
      "  film: 0.5423\n",
      "  basket: 0.6226\n",
      "  cardboard: 0.2405\n",
      "  video_tape: 0.1334\n",
      "  filament: 0.0051\n",
      "  bag: 0.5180\n",
      "Classes present in predictions: ['film', 'basket', 'cardboard', 'video_tape', 'filament', 'bag']\n",
      "Classes present in ground truth: ['film', 'basket', 'cardboard', 'video_tape', 'filament', 'bag']\n",
      "New best IoU achieved: 0.3436 (previous: 0.3396)\n",
      "Best model saved!\n",
      "--------------------------------------------------\n",
      "\n",
      "Epoch 26/50\n"
     ]
    },
    {
     "name": "stderr",
     "output_type": "stream",
     "text": [
      "Training: 100%|██████████| 26/26 [00:05<00:00,  4.71it/s, loss=0.302]\n"
     ]
    },
    {
     "name": "stdout",
     "output_type": "stream",
     "text": [
      "Epoch [26/50], Train Loss: 0.3182, Train Mean IoU: 0.5139\n",
      "Train IoU per Class:\n",
      "  film: 0.8067\n",
      "  basket: 0.7043\n",
      "  cardboard: 0.6044\n",
      "  video_tape: 0.1630\n",
      "  filament: 0.0043\n",
      "  bag: 0.8006\n"
     ]
    },
    {
     "name": "stderr",
     "output_type": "stream",
     "text": [
      "Validation: 100%|██████████| 7/7 [00:00<00:00, 10.57it/s]\n"
     ]
    },
    {
     "name": "stdout",
     "output_type": "stream",
     "text": [
      "Epoch [26/50], Val Loss: 0.5897, Val Mean IoU: 0.3561\n",
      "Validation IoU per Class:\n",
      "  film: 0.5457\n",
      "  basket: 0.5894\n",
      "  cardboard: 0.3132\n",
      "  video_tape: 0.1336\n",
      "  filament: 0.0050\n",
      "  bag: 0.5495\n",
      "Classes present in predictions: ['film', 'basket', 'cardboard', 'video_tape', 'filament', 'bag']\n",
      "Classes present in ground truth: ['film', 'basket', 'cardboard', 'video_tape', 'filament', 'bag']\n",
      "New best IoU achieved: 0.3561 (previous: 0.3436)\n",
      "Best model saved!\n",
      "--------------------------------------------------\n",
      "\n",
      "Epoch 27/50\n"
     ]
    },
    {
     "name": "stderr",
     "output_type": "stream",
     "text": [
      "Training: 100%|██████████| 26/26 [00:05<00:00,  5.18it/s, loss=0.285]\n"
     ]
    },
    {
     "name": "stdout",
     "output_type": "stream",
     "text": [
      "Epoch [27/50], Train Loss: 0.3165, Train Mean IoU: 0.5119\n",
      "Train IoU per Class:\n",
      "  film: 0.8311\n",
      "  basket: 0.7406\n",
      "  cardboard: 0.5528\n",
      "  video_tape: 0.1701\n",
      "  filament: 0.0056\n",
      "  bag: 0.7716\n"
     ]
    },
    {
     "name": "stderr",
     "output_type": "stream",
     "text": [
      "Validation: 100%|██████████| 7/7 [00:00<00:00, 11.36it/s]\n"
     ]
    },
    {
     "name": "stdout",
     "output_type": "stream",
     "text": [
      "Epoch [27/50], Val Loss: 0.6052, Val Mean IoU: 0.3564\n",
      "Validation IoU per Class:\n",
      "  film: 0.5462\n",
      "  basket: 0.6405\n",
      "  cardboard: 0.2866\n",
      "  video_tape: 0.1432\n",
      "  filament: 0.0068\n",
      "  bag: 0.5152\n",
      "Classes present in predictions: ['film', 'basket', 'cardboard', 'video_tape', 'filament', 'bag']\n",
      "Classes present in ground truth: ['film', 'basket', 'cardboard', 'video_tape', 'filament', 'bag']\n",
      "New best IoU achieved: 0.3564 (previous: 0.3561)\n",
      "Best model saved!\n",
      "--------------------------------------------------\n",
      "\n",
      "Epoch 28/50\n"
     ]
    },
    {
     "name": "stderr",
     "output_type": "stream",
     "text": [
      "Training: 100%|██████████| 26/26 [00:04<00:00,  5.24it/s, loss=0.317]\n"
     ]
    },
    {
     "name": "stdout",
     "output_type": "stream",
     "text": [
      "Epoch [28/50], Train Loss: 0.3098, Train Mean IoU: 0.5251\n",
      "Train IoU per Class:\n",
      "  film: 0.7771\n",
      "  basket: 0.6986\n",
      "  cardboard: 0.5828\n",
      "  video_tape: 0.2847\n",
      "  filament: 0.0058\n",
      "  bag: 0.8018\n"
     ]
    },
    {
     "name": "stderr",
     "output_type": "stream",
     "text": [
      "Validation: 100%|██████████| 7/7 [00:00<00:00,  7.43it/s]\n"
     ]
    },
    {
     "name": "stdout",
     "output_type": "stream",
     "text": [
      "Epoch [28/50], Val Loss: 0.6056, Val Mean IoU: 0.3695\n",
      "Validation IoU per Class:\n",
      "  film: 0.5362\n",
      "  basket: 0.5892\n",
      "  cardboard: 0.3184\n",
      "  video_tape: 0.2289\n",
      "  filament: 0.0069\n",
      "  bag: 0.5371\n",
      "Classes present in predictions: ['film', 'basket', 'cardboard', 'video_tape', 'filament', 'bag']\n",
      "Classes present in ground truth: ['film', 'basket', 'cardboard', 'video_tape', 'filament', 'bag']\n",
      "New best IoU achieved: 0.3695 (previous: 0.3564)\n",
      "Best model saved!\n",
      "--------------------------------------------------\n",
      "\n",
      "Epoch 29/50\n"
     ]
    },
    {
     "name": "stderr",
     "output_type": "stream",
     "text": [
      "Training: 100%|██████████| 26/26 [00:05<00:00,  4.83it/s, loss=0.374]\n"
     ]
    },
    {
     "name": "stdout",
     "output_type": "stream",
     "text": [
      "Epoch [29/50], Train Loss: 0.3138, Train Mean IoU: 0.5154\n",
      "Train IoU per Class:\n",
      "  film: 0.8057\n",
      "  basket: 0.6452\n",
      "  cardboard: 0.6094\n",
      "  video_tape: 0.2245\n",
      "  filament: 0.0090\n",
      "  bag: 0.7985\n"
     ]
    },
    {
     "name": "stderr",
     "output_type": "stream",
     "text": [
      "Validation: 100%|██████████| 7/7 [00:00<00:00,  8.06it/s]\n"
     ]
    },
    {
     "name": "stdout",
     "output_type": "stream",
     "text": [
      "Epoch [29/50], Val Loss: 0.6112, Val Mean IoU: 0.3439\n",
      "Validation IoU per Class:\n",
      "  film: 0.5171\n",
      "  basket: 0.5159\n",
      "  cardboard: 0.2910\n",
      "  video_tape: 0.1837\n",
      "  filament: 0.0097\n",
      "  bag: 0.5459\n",
      "Classes present in predictions: ['film', 'basket', 'cardboard', 'video_tape', 'filament', 'bag']\n",
      "Classes present in ground truth: ['film', 'basket', 'cardboard', 'video_tape', 'filament', 'bag']\n",
      "--------------------------------------------------\n",
      "\n",
      "Epoch 30/50\n"
     ]
    },
    {
     "name": "stderr",
     "output_type": "stream",
     "text": [
      "Training: 100%|██████████| 26/26 [00:04<00:00,  5.21it/s, loss=0.34] \n"
     ]
    },
    {
     "name": "stdout",
     "output_type": "stream",
     "text": [
      "Epoch [30/50], Train Loss: 0.3545, Train Mean IoU: 0.2340\n",
      "Train IoU per Class:\n",
      "  film: 0.2673\n",
      "  basket: 0.2574\n",
      "  cardboard: 0.2690\n",
      "  video_tape: 0.1504\n",
      "  filament: 0.0108\n",
      "  bag: 0.4493\n"
     ]
    },
    {
     "name": "stderr",
     "output_type": "stream",
     "text": [
      "Validation: 100%|██████████| 7/7 [00:00<00:00, 11.27it/s]\n"
     ]
    },
    {
     "name": "stdout",
     "output_type": "stream",
     "text": [
      "Epoch [30/50], Val Loss: 0.8006, Val Mean IoU: 0.2031\n",
      "Validation IoU per Class:\n",
      "  film: 0.2463\n",
      "  basket: 0.2491\n",
      "  cardboard: 0.2327\n",
      "  video_tape: 0.1380\n",
      "  filament: 0.0078\n",
      "  bag: 0.3449\n",
      "Classes present in predictions: ['film', 'basket', 'cardboard', 'video_tape', 'filament', 'bag']\n",
      "Classes present in ground truth: ['film', 'basket', 'cardboard', 'video_tape', 'filament', 'bag']\n",
      "--------------------------------------------------\n",
      "\n",
      "Epoch 31/50\n"
     ]
    },
    {
     "name": "stderr",
     "output_type": "stream",
     "text": [
      "Training: 100%|██████████| 26/26 [00:04<00:00,  5.28it/s, loss=0.371]\n"
     ]
    },
    {
     "name": "stdout",
     "output_type": "stream",
     "text": [
      "Epoch [31/50], Train Loss: 0.3764, Train Mean IoU: 0.3153\n",
      "Train IoU per Class:\n",
      "  film: 0.5370\n",
      "  basket: 0.3863\n",
      "  cardboard: 0.0085\n",
      "  video_tape: 0.3145\n",
      "  filament: 0.0238\n",
      "  bag: 0.6216\n"
     ]
    },
    {
     "name": "stderr",
     "output_type": "stream",
     "text": [
      "Validation: 100%|██████████| 7/7 [00:00<00:00, 11.19it/s]\n"
     ]
    },
    {
     "name": "stdout",
     "output_type": "stream",
     "text": [
      "Epoch [31/50], Val Loss: 1.6810, Val Mean IoU: 0.1860\n",
      "Validation IoU per Class:\n",
      "  film: 0.2341\n",
      "  basket: 0.2248\n",
      "  cardboard: 0.0103\n",
      "  video_tape: 0.2196\n",
      "  filament: 0.0041\n",
      "  bag: 0.4230\n",
      "Classes present in predictions: ['film', 'basket', 'cardboard', 'video_tape', 'filament', 'bag']\n",
      "Classes present in ground truth: ['film', 'basket', 'cardboard', 'video_tape', 'filament', 'bag']\n",
      "--------------------------------------------------\n",
      "\n",
      "Epoch 32/50\n"
     ]
    },
    {
     "name": "stderr",
     "output_type": "stream",
     "text": [
      "Training: 100%|██████████| 26/26 [00:06<00:00,  4.00it/s, loss=0.35] \n"
     ]
    },
    {
     "name": "stdout",
     "output_type": "stream",
     "text": [
      "Epoch [32/50], Train Loss: 0.3623, Train Mean IoU: 0.3541\n",
      "Train IoU per Class:\n",
      "  film: 0.3938\n",
      "  basket: 0.5193\n",
      "  cardboard: 0.3166\n",
      "  video_tape: 0.3228\n",
      "  filament: 0.0217\n",
      "  bag: 0.5505\n"
     ]
    },
    {
     "name": "stderr",
     "output_type": "stream",
     "text": [
      "Validation: 100%|██████████| 7/7 [00:00<00:00,  9.47it/s]\n"
     ]
    },
    {
     "name": "stdout",
     "output_type": "stream",
     "text": [
      "Epoch [32/50], Val Loss: 0.7030, Val Mean IoU: 0.2964\n",
      "Validation IoU per Class:\n",
      "  film: 0.3326\n",
      "  basket: 0.4901\n",
      "  cardboard: 0.2257\n",
      "  video_tape: 0.2593\n",
      "  filament: 0.0155\n",
      "  bag: 0.4551\n",
      "Classes present in predictions: ['film', 'basket', 'cardboard', 'video_tape', 'filament', 'bag']\n",
      "Classes present in ground truth: ['film', 'basket', 'cardboard', 'video_tape', 'filament', 'bag']\n",
      "--------------------------------------------------\n",
      "\n",
      "Epoch 33/50\n"
     ]
    },
    {
     "name": "stderr",
     "output_type": "stream",
     "text": [
      "Training: 100%|██████████| 26/26 [00:04<00:00,  5.27it/s, loss=0.365]\n"
     ]
    },
    {
     "name": "stdout",
     "output_type": "stream",
     "text": [
      "Epoch [33/50], Train Loss: 0.3347, Train Mean IoU: 0.4303\n",
      "Train IoU per Class:\n",
      "  film: 0.6945\n",
      "  basket: 0.6645\n",
      "  cardboard: 0.3026\n",
      "  video_tape: 0.2162\n",
      "  filament: 0.0328\n",
      "  bag: 0.6710\n"
     ]
    },
    {
     "name": "stderr",
     "output_type": "stream",
     "text": [
      "Validation: 100%|██████████| 7/7 [00:00<00:00, 10.60it/s]\n"
     ]
    },
    {
     "name": "stdout",
     "output_type": "stream",
     "text": [
      "Epoch [33/50], Val Loss: 0.6659, Val Mean IoU: 0.3344\n",
      "Validation IoU per Class:\n",
      "  film: 0.4904\n",
      "  basket: 0.5962\n",
      "  cardboard: 0.2258\n",
      "  video_tape: 0.1791\n",
      "  filament: 0.0301\n",
      "  bag: 0.4847\n",
      "Classes present in predictions: ['film', 'basket', 'cardboard', 'video_tape', 'filament', 'bag']\n",
      "Classes present in ground truth: ['film', 'basket', 'cardboard', 'video_tape', 'filament', 'bag']\n",
      "--------------------------------------------------\n",
      "\n",
      "Epoch 34/50\n"
     ]
    },
    {
     "name": "stderr",
     "output_type": "stream",
     "text": [
      "Training: 100%|██████████| 26/26 [00:10<00:00,  2.41it/s, loss=0.387]\n"
     ]
    },
    {
     "name": "stdout",
     "output_type": "stream",
     "text": [
      "Epoch [34/50], Train Loss: 0.3093, Train Mean IoU: 0.4717\n",
      "Train IoU per Class:\n",
      "  film: 0.7474\n",
      "  basket: 0.6937\n",
      "  cardboard: 0.3748\n",
      "  video_tape: 0.2025\n",
      "  filament: 0.0436\n",
      "  bag: 0.7681\n"
     ]
    },
    {
     "name": "stderr",
     "output_type": "stream",
     "text": [
      "Validation: 100%|██████████| 7/7 [00:00<00:00, 10.48it/s]\n"
     ]
    },
    {
     "name": "stdout",
     "output_type": "stream",
     "text": [
      "Epoch [34/50], Val Loss: 0.6989, Val Mean IoU: 0.3526\n",
      "Validation IoU per Class:\n",
      "  film: 0.5321\n",
      "  basket: 0.6123\n",
      "  cardboard: 0.2413\n",
      "  video_tape: 0.1642\n",
      "  filament: 0.0337\n",
      "  bag: 0.5320\n",
      "Classes present in predictions: ['film', 'basket', 'cardboard', 'video_tape', 'filament', 'bag']\n",
      "Classes present in ground truth: ['film', 'basket', 'cardboard', 'video_tape', 'filament', 'bag']\n",
      "--------------------------------------------------\n",
      "\n",
      "Epoch 35/50\n"
     ]
    },
    {
     "name": "stderr",
     "output_type": "stream",
     "text": [
      "Training: 100%|██████████| 26/26 [00:07<00:00,  3.48it/s, loss=0.287]\n"
     ]
    },
    {
     "name": "stdout",
     "output_type": "stream",
     "text": [
      "Epoch [35/50], Train Loss: 0.2972, Train Mean IoU: 0.5074\n",
      "Train IoU per Class:\n",
      "  film: 0.7218\n",
      "  basket: 0.7462\n",
      "  cardboard: 0.5103\n",
      "  video_tape: 0.2574\n",
      "  filament: 0.0424\n",
      "  bag: 0.7664\n"
     ]
    },
    {
     "name": "stderr",
     "output_type": "stream",
     "text": [
      "Validation: 100%|██████████| 7/7 [00:00<00:00, 10.68it/s]\n"
     ]
    },
    {
     "name": "stdout",
     "output_type": "stream",
     "text": [
      "Epoch [35/50], Val Loss: 0.6514, Val Mean IoU: 0.3761\n",
      "Validation IoU per Class:\n",
      "  film: 0.5134\n",
      "  basket: 0.6639\n",
      "  cardboard: 0.3040\n",
      "  video_tape: 0.2065\n",
      "  filament: 0.0333\n",
      "  bag: 0.5356\n",
      "Classes present in predictions: ['film', 'basket', 'cardboard', 'video_tape', 'filament', 'bag']\n",
      "Classes present in ground truth: ['film', 'basket', 'cardboard', 'video_tape', 'filament', 'bag']\n",
      "New best IoU achieved: 0.3761 (previous: 0.3695)\n",
      "Best model saved!\n",
      "--------------------------------------------------\n",
      "\n",
      "Epoch 36/50\n"
     ]
    },
    {
     "name": "stderr",
     "output_type": "stream",
     "text": [
      "Training: 100%|██████████| 26/26 [00:06<00:00,  4.03it/s, loss=0.273]\n"
     ]
    },
    {
     "name": "stdout",
     "output_type": "stream",
     "text": [
      "Epoch [36/50], Train Loss: 0.2832, Train Mean IoU: 0.5407\n",
      "Train IoU per Class:\n",
      "  film: 0.7890\n",
      "  basket: 0.7725\n",
      "  cardboard: 0.6181\n",
      "  video_tape: 0.2271\n",
      "  filament: 0.0438\n",
      "  bag: 0.7934\n"
     ]
    },
    {
     "name": "stderr",
     "output_type": "stream",
     "text": [
      "Validation: 100%|██████████| 7/7 [00:01<00:00,  4.55it/s]\n"
     ]
    },
    {
     "name": "stdout",
     "output_type": "stream",
     "text": [
      "Epoch [36/50], Val Loss: 0.6503, Val Mean IoU: 0.3910\n",
      "Validation IoU per Class:\n",
      "  film: 0.5649\n",
      "  basket: 0.6773\n",
      "  cardboard: 0.3288\n",
      "  video_tape: 0.1842\n",
      "  filament: 0.0403\n",
      "  bag: 0.5504\n",
      "Classes present in predictions: ['film', 'basket', 'cardboard', 'video_tape', 'filament', 'bag']\n",
      "Classes present in ground truth: ['film', 'basket', 'cardboard', 'video_tape', 'filament', 'bag']\n",
      "New best IoU achieved: 0.3910 (previous: 0.3761)\n",
      "Best model saved!\n",
      "--------------------------------------------------\n",
      "\n",
      "Epoch 37/50\n"
     ]
    },
    {
     "name": "stderr",
     "output_type": "stream",
     "text": [
      "Training: 100%|██████████| 26/26 [00:06<00:00,  3.92it/s, loss=0.307]\n"
     ]
    },
    {
     "name": "stdout",
     "output_type": "stream",
     "text": [
      "Epoch [37/50], Train Loss: 0.2824, Train Mean IoU: 0.5239\n",
      "Train IoU per Class:\n",
      "  film: 0.7687\n",
      "  basket: 0.7661\n",
      "  cardboard: 0.5306\n",
      "  video_tape: 0.2587\n",
      "  filament: 0.0630\n",
      "  bag: 0.7560\n"
     ]
    },
    {
     "name": "stderr",
     "output_type": "stream",
     "text": [
      "Validation: 100%|██████████| 7/7 [00:00<00:00, 13.74it/s]\n"
     ]
    },
    {
     "name": "stdout",
     "output_type": "stream",
     "text": [
      "Epoch [37/50], Val Loss: 0.6691, Val Mean IoU: 0.3852\n",
      "Validation IoU per Class:\n",
      "  film: 0.5519\n",
      "  basket: 0.6776\n",
      "  cardboard: 0.3091\n",
      "  video_tape: 0.2037\n",
      "  filament: 0.0541\n",
      "  bag: 0.5151\n",
      "Classes present in predictions: ['film', 'basket', 'cardboard', 'video_tape', 'filament', 'bag']\n",
      "Classes present in ground truth: ['film', 'basket', 'cardboard', 'video_tape', 'filament', 'bag']\n",
      "--------------------------------------------------\n",
      "\n",
      "Epoch 38/50\n"
     ]
    },
    {
     "name": "stderr",
     "output_type": "stream",
     "text": [
      "Training: 100%|██████████| 26/26 [00:06<00:00,  4.16it/s, loss=0.317]\n"
     ]
    },
    {
     "name": "stdout",
     "output_type": "stream",
     "text": [
      "Epoch [38/50], Train Loss: 0.2750, Train Mean IoU: 0.5686\n",
      "Train IoU per Class:\n",
      "  film: 0.7965\n",
      "  basket: 0.7820\n",
      "  cardboard: 0.6758\n",
      "  video_tape: 0.2732\n",
      "  filament: 0.0536\n",
      "  bag: 0.8305\n"
     ]
    },
    {
     "name": "stderr",
     "output_type": "stream",
     "text": [
      "Validation: 100%|██████████| 7/7 [00:00<00:00, 14.29it/s]\n"
     ]
    },
    {
     "name": "stdout",
     "output_type": "stream",
     "text": [
      "Epoch [38/50], Val Loss: 0.6609, Val Mean IoU: 0.4012\n",
      "Validation IoU per Class:\n",
      "  film: 0.5585\n",
      "  basket: 0.6742\n",
      "  cardboard: 0.3483\n",
      "  video_tape: 0.2155\n",
      "  filament: 0.0495\n",
      "  bag: 0.5611\n",
      "Classes present in predictions: ['film', 'basket', 'cardboard', 'video_tape', 'filament', 'bag']\n",
      "Classes present in ground truth: ['film', 'basket', 'cardboard', 'video_tape', 'filament', 'bag']\n",
      "New best IoU achieved: 0.4012 (previous: 0.3910)\n",
      "Best model saved!\n",
      "--------------------------------------------------\n",
      "\n",
      "Epoch 39/50\n"
     ]
    },
    {
     "name": "stderr",
     "output_type": "stream",
     "text": [
      "Training: 100%|██████████| 26/26 [00:06<00:00,  4.08it/s, loss=0.268]\n"
     ]
    },
    {
     "name": "stdout",
     "output_type": "stream",
     "text": [
      "Epoch [39/50], Train Loss: 0.2656, Train Mean IoU: 0.5822\n",
      "Train IoU per Class:\n",
      "  film: 0.8363\n",
      "  basket: 0.7752\n",
      "  cardboard: 0.6725\n",
      "  video_tape: 0.3456\n",
      "  filament: 0.0592\n",
      "  bag: 0.8045\n"
     ]
    },
    {
     "name": "stderr",
     "output_type": "stream",
     "text": [
      "Validation: 100%|██████████| 7/7 [00:00<00:00, 13.19it/s]\n"
     ]
    },
    {
     "name": "stdout",
     "output_type": "stream",
     "text": [
      "Epoch [39/50], Val Loss: 0.6937, Val Mean IoU: 0.4077\n",
      "Validation IoU per Class:\n",
      "  film: 0.5533\n",
      "  basket: 0.6752\n",
      "  cardboard: 0.3483\n",
      "  video_tape: 0.2698\n",
      "  filament: 0.0563\n",
      "  bag: 0.5432\n",
      "Classes present in predictions: ['film', 'basket', 'cardboard', 'video_tape', 'filament', 'bag']\n",
      "Classes present in ground truth: ['film', 'basket', 'cardboard', 'video_tape', 'filament', 'bag']\n",
      "New best IoU achieved: 0.4077 (previous: 0.4012)\n",
      "Best model saved!\n",
      "--------------------------------------------------\n",
      "\n",
      "Epoch 40/50\n"
     ]
    },
    {
     "name": "stderr",
     "output_type": "stream",
     "text": [
      "Training: 100%|██████████| 26/26 [00:06<00:00,  3.92it/s, loss=0.251]\n"
     ]
    },
    {
     "name": "stdout",
     "output_type": "stream",
     "text": [
      "Epoch [40/50], Train Loss: 0.2685, Train Mean IoU: 0.5676\n",
      "Train IoU per Class:\n",
      "  film: 0.8207\n",
      "  basket: 0.8077\n",
      "  cardboard: 0.6444\n",
      "  video_tape: 0.2665\n",
      "  filament: 0.0681\n",
      "  bag: 0.7984\n"
     ]
    },
    {
     "name": "stderr",
     "output_type": "stream",
     "text": [
      "Validation: 100%|██████████| 7/7 [00:00<00:00, 15.95it/s]\n"
     ]
    },
    {
     "name": "stdout",
     "output_type": "stream",
     "text": [
      "Epoch [40/50], Val Loss: 0.6861, Val Mean IoU: 0.3901\n",
      "Validation IoU per Class:\n",
      "  film: 0.5541\n",
      "  basket: 0.6815\n",
      "  cardboard: 0.3010\n",
      "  video_tape: 0.2086\n",
      "  filament: 0.0562\n",
      "  bag: 0.5390\n",
      "Classes present in predictions: ['film', 'basket', 'cardboard', 'video_tape', 'filament', 'bag']\n",
      "Classes present in ground truth: ['film', 'basket', 'cardboard', 'video_tape', 'filament', 'bag']\n",
      "--------------------------------------------------\n",
      "\n",
      "Epoch 41/50\n"
     ]
    },
    {
     "name": "stderr",
     "output_type": "stream",
     "text": [
      "Training: 100%|██████████| 26/26 [00:06<00:00,  4.10it/s, loss=0.256]\n"
     ]
    },
    {
     "name": "stdout",
     "output_type": "stream",
     "text": [
      "Epoch [41/50], Train Loss: 0.2574, Train Mean IoU: 0.5721\n",
      "Train IoU per Class:\n",
      "  film: 0.8255\n",
      "  basket: 0.8005\n",
      "  cardboard: 0.6426\n",
      "  video_tape: 0.2907\n",
      "  filament: 0.0553\n",
      "  bag: 0.8177\n"
     ]
    },
    {
     "name": "stderr",
     "output_type": "stream",
     "text": [
      "Validation: 100%|██████████| 7/7 [00:00<00:00, 13.27it/s]\n"
     ]
    },
    {
     "name": "stdout",
     "output_type": "stream",
     "text": [
      "Epoch [41/50], Val Loss: 0.7002, Val Mean IoU: 0.3952\n",
      "Validation IoU per Class:\n",
      "  film: 0.5543\n",
      "  basket: 0.6823\n",
      "  cardboard: 0.3115\n",
      "  video_tape: 0.2268\n",
      "  filament: 0.0486\n",
      "  bag: 0.5476\n",
      "Classes present in predictions: ['film', 'basket', 'cardboard', 'video_tape', 'filament', 'bag']\n",
      "Classes present in ground truth: ['film', 'basket', 'cardboard', 'video_tape', 'filament', 'bag']\n",
      "--------------------------------------------------\n",
      "\n",
      "Epoch 42/50\n"
     ]
    },
    {
     "name": "stderr",
     "output_type": "stream",
     "text": [
      "Training: 100%|██████████| 26/26 [00:06<00:00,  4.13it/s, loss=0.268]\n"
     ]
    },
    {
     "name": "stdout",
     "output_type": "stream",
     "text": [
      "Epoch [42/50], Train Loss: 0.2574, Train Mean IoU: 0.5939\n",
      "Train IoU per Class:\n",
      "  film: 0.8147\n",
      "  basket: 0.8177\n",
      "  cardboard: 0.7260\n",
      "  video_tape: 0.2787\n",
      "  filament: 0.0750\n",
      "  bag: 0.8511\n"
     ]
    },
    {
     "name": "stderr",
     "output_type": "stream",
     "text": [
      "Validation: 100%|██████████| 7/7 [00:00<00:00, 13.66it/s]\n"
     ]
    },
    {
     "name": "stdout",
     "output_type": "stream",
     "text": [
      "Epoch [42/50], Val Loss: 0.6935, Val Mean IoU: 0.4071\n",
      "Validation IoU per Class:\n",
      "  film: 0.5604\n",
      "  basket: 0.6830\n",
      "  cardboard: 0.3431\n",
      "  video_tape: 0.2179\n",
      "  filament: 0.0708\n",
      "  bag: 0.5676\n",
      "Classes present in predictions: ['film', 'basket', 'cardboard', 'video_tape', 'filament', 'bag']\n",
      "Classes present in ground truth: ['film', 'basket', 'cardboard', 'video_tape', 'filament', 'bag']\n",
      "--------------------------------------------------\n",
      "\n",
      "Epoch 43/50\n"
     ]
    },
    {
     "name": "stderr",
     "output_type": "stream",
     "text": [
      "Training: 100%|██████████| 26/26 [00:05<00:00,  4.95it/s, loss=0.243]\n"
     ]
    },
    {
     "name": "stdout",
     "output_type": "stream",
     "text": [
      "Epoch [43/50], Train Loss: 0.2603, Train Mean IoU: 0.5929\n",
      "Train IoU per Class:\n",
      "  film: 0.8164\n",
      "  basket: 0.8116\n",
      "  cardboard: 0.7032\n",
      "  video_tape: 0.3182\n",
      "  filament: 0.0776\n",
      "  bag: 0.8301\n"
     ]
    },
    {
     "name": "stderr",
     "output_type": "stream",
     "text": [
      "Validation: 100%|██████████| 7/7 [00:00<00:00, 14.65it/s]\n"
     ]
    },
    {
     "name": "stdout",
     "output_type": "stream",
     "text": [
      "Epoch [43/50], Val Loss: 0.6903, Val Mean IoU: 0.4046\n",
      "Validation IoU per Class:\n",
      "  film: 0.5527\n",
      "  basket: 0.6766\n",
      "  cardboard: 0.3332\n",
      "  video_tape: 0.2417\n",
      "  filament: 0.0699\n",
      "  bag: 0.5537\n",
      "Classes present in predictions: ['film', 'basket', 'cardboard', 'video_tape', 'filament', 'bag']\n",
      "Classes present in ground truth: ['film', 'basket', 'cardboard', 'video_tape', 'filament', 'bag']\n",
      "--------------------------------------------------\n",
      "\n",
      "Epoch 44/50\n"
     ]
    },
    {
     "name": "stderr",
     "output_type": "stream",
     "text": [
      "Training: 100%|██████████| 26/26 [00:06<00:00,  4.11it/s, loss=0.265]\n"
     ]
    },
    {
     "name": "stdout",
     "output_type": "stream",
     "text": [
      "Epoch [44/50], Train Loss: 0.2486, Train Mean IoU: 0.6241\n",
      "Train IoU per Class:\n",
      "  film: 0.7944\n",
      "  basket: 0.8304\n",
      "  cardboard: 0.7820\n",
      "  video_tape: 0.3748\n",
      "  filament: 0.1009\n",
      "  bag: 0.8622\n"
     ]
    },
    {
     "name": "stderr",
     "output_type": "stream",
     "text": [
      "Validation: 100%|██████████| 7/7 [00:00<00:00, 14.04it/s]\n"
     ]
    },
    {
     "name": "stdout",
     "output_type": "stream",
     "text": [
      "Epoch [44/50], Val Loss: 0.7137, Val Mean IoU: 0.4202\n",
      "Validation IoU per Class:\n",
      "  film: 0.5364\n",
      "  basket: 0.6885\n",
      "  cardboard: 0.3543\n",
      "  video_tape: 0.2841\n",
      "  filament: 0.0902\n",
      "  bag: 0.5674\n",
      "Classes present in predictions: ['film', 'basket', 'cardboard', 'video_tape', 'filament', 'bag']\n",
      "Classes present in ground truth: ['film', 'basket', 'cardboard', 'video_tape', 'filament', 'bag']\n",
      "New best IoU achieved: 0.4202 (previous: 0.4077)\n",
      "Best model saved!\n",
      "--------------------------------------------------\n",
      "\n",
      "Epoch 45/50\n"
     ]
    },
    {
     "name": "stderr",
     "output_type": "stream",
     "text": [
      "Training: 100%|██████████| 26/26 [00:06<00:00,  4.11it/s, loss=0.236]\n"
     ]
    },
    {
     "name": "stdout",
     "output_type": "stream",
     "text": [
      "Epoch [45/50], Train Loss: 0.2485, Train Mean IoU: 0.6192\n",
      "Train IoU per Class:\n",
      "  film: 0.8624\n",
      "  basket: 0.8263\n",
      "  cardboard: 0.7625\n",
      "  video_tape: 0.2960\n",
      "  filament: 0.1079\n",
      "  bag: 0.8601\n"
     ]
    },
    {
     "name": "stderr",
     "output_type": "stream",
     "text": [
      "Validation: 100%|██████████| 7/7 [00:00<00:00, 12.90it/s]\n"
     ]
    },
    {
     "name": "stdout",
     "output_type": "stream",
     "text": [
      "Epoch [45/50], Val Loss: 0.7071, Val Mean IoU: 0.4134\n",
      "Validation IoU per Class:\n",
      "  film: 0.5655\n",
      "  basket: 0.6889\n",
      "  cardboard: 0.3447\n",
      "  video_tape: 0.2114\n",
      "  filament: 0.0980\n",
      "  bag: 0.5719\n",
      "Classes present in predictions: ['film', 'basket', 'cardboard', 'video_tape', 'filament', 'bag']\n",
      "Classes present in ground truth: ['film', 'basket', 'cardboard', 'video_tape', 'filament', 'bag']\n",
      "--------------------------------------------------\n",
      "\n",
      "Epoch 46/50\n"
     ]
    },
    {
     "name": "stderr",
     "output_type": "stream",
     "text": [
      "Training: 100%|██████████| 26/26 [00:06<00:00,  4.02it/s, loss=0.279]\n"
     ]
    },
    {
     "name": "stdout",
     "output_type": "stream",
     "text": [
      "Epoch [46/50], Train Loss: 0.2422, Train Mean IoU: 0.6077\n",
      "Train IoU per Class:\n",
      "  film: 0.8435\n",
      "  basket: 0.8184\n",
      "  cardboard: 0.7847\n",
      "  video_tape: 0.2562\n",
      "  filament: 0.1059\n",
      "  bag: 0.8374\n"
     ]
    },
    {
     "name": "stderr",
     "output_type": "stream",
     "text": [
      "Validation: 100%|██████████| 7/7 [00:01<00:00,  4.57it/s]\n"
     ]
    },
    {
     "name": "stdout",
     "output_type": "stream",
     "text": [
      "Epoch [46/50], Val Loss: 0.6984, Val Mean IoU: 0.4098\n",
      "Validation IoU per Class:\n",
      "  film: 0.5594\n",
      "  basket: 0.6906\n",
      "  cardboard: 0.3524\n",
      "  video_tape: 0.1962\n",
      "  filament: 0.1037\n",
      "  bag: 0.5566\n",
      "Classes present in predictions: ['film', 'basket', 'cardboard', 'video_tape', 'filament', 'bag']\n",
      "Classes present in ground truth: ['film', 'basket', 'cardboard', 'video_tape', 'filament', 'bag']\n",
      "--------------------------------------------------\n",
      "\n",
      "Epoch 47/50\n"
     ]
    },
    {
     "name": "stderr",
     "output_type": "stream",
     "text": [
      "Training: 100%|██████████| 26/26 [00:05<00:00,  5.12it/s, loss=0.197]\n"
     ]
    },
    {
     "name": "stdout",
     "output_type": "stream",
     "text": [
      "Epoch [47/50], Train Loss: 0.2401, Train Mean IoU: 0.6364\n",
      "Train IoU per Class:\n",
      "  film: 0.8604\n",
      "  basket: 0.8450\n",
      "  cardboard: 0.7995\n",
      "  video_tape: 0.3633\n",
      "  filament: 0.1058\n",
      "  bag: 0.8442\n"
     ]
    },
    {
     "name": "stderr",
     "output_type": "stream",
     "text": [
      "Validation: 100%|██████████| 7/7 [00:00<00:00, 15.49it/s]\n"
     ]
    },
    {
     "name": "stdout",
     "output_type": "stream",
     "text": [
      "Epoch [47/50], Val Loss: 0.7329, Val Mean IoU: 0.4230\n",
      "Validation IoU per Class:\n",
      "  film: 0.5674\n",
      "  basket: 0.6908\n",
      "  cardboard: 0.3608\n",
      "  video_tape: 0.2664\n",
      "  filament: 0.0964\n",
      "  bag: 0.5561\n",
      "Classes present in predictions: ['film', 'basket', 'cardboard', 'video_tape', 'filament', 'bag']\n",
      "Classes present in ground truth: ['film', 'basket', 'cardboard', 'video_tape', 'filament', 'bag']\n",
      "New best IoU achieved: 0.4230 (previous: 0.4202)\n",
      "Best model saved!\n",
      "--------------------------------------------------\n",
      "\n",
      "Epoch 48/50\n"
     ]
    },
    {
     "name": "stderr",
     "output_type": "stream",
     "text": [
      "Training: 100%|██████████| 26/26 [00:06<00:00,  4.24it/s, loss=0.198]\n"
     ]
    },
    {
     "name": "stdout",
     "output_type": "stream",
     "text": [
      "Epoch [48/50], Train Loss: 0.2352, Train Mean IoU: 0.6448\n",
      "Train IoU per Class:\n",
      "  film: 0.8473\n",
      "  basket: 0.8301\n",
      "  cardboard: 0.8130\n",
      "  video_tape: 0.3936\n",
      "  filament: 0.1053\n",
      "  bag: 0.8796\n"
     ]
    },
    {
     "name": "stderr",
     "output_type": "stream",
     "text": [
      "Validation: 100%|██████████| 7/7 [00:00<00:00, 15.63it/s]\n"
     ]
    },
    {
     "name": "stdout",
     "output_type": "stream",
     "text": [
      "Epoch [48/50], Val Loss: 0.7409, Val Mean IoU: 0.4268\n",
      "Validation IoU per Class:\n",
      "  film: 0.5702\n",
      "  basket: 0.6812\n",
      "  cardboard: 0.3527\n",
      "  video_tape: 0.2845\n",
      "  filament: 0.0943\n",
      "  bag: 0.5781\n",
      "Classes present in predictions: ['film', 'basket', 'cardboard', 'video_tape', 'filament', 'bag']\n",
      "Classes present in ground truth: ['film', 'basket', 'cardboard', 'video_tape', 'filament', 'bag']\n",
      "New best IoU achieved: 0.4268 (previous: 0.4230)\n",
      "Best model saved!\n",
      "--------------------------------------------------\n",
      "\n",
      "Epoch 49/50\n"
     ]
    },
    {
     "name": "stderr",
     "output_type": "stream",
     "text": [
      "Training: 100%|██████████| 26/26 [00:06<00:00,  3.92it/s, loss=0.22] \n"
     ]
    },
    {
     "name": "stdout",
     "output_type": "stream",
     "text": [
      "Epoch [49/50], Train Loss: 0.2357, Train Mean IoU: 0.6449\n",
      "Train IoU per Class:\n",
      "  film: 0.8536\n",
      "  basket: 0.8305\n",
      "  cardboard: 0.8300\n",
      "  video_tape: 0.3439\n",
      "  filament: 0.1309\n",
      "  bag: 0.8806\n"
     ]
    },
    {
     "name": "stderr",
     "output_type": "stream",
     "text": [
      "Validation: 100%|██████████| 7/7 [00:00<00:00, 13.50it/s]\n"
     ]
    },
    {
     "name": "stdout",
     "output_type": "stream",
     "text": [
      "Epoch [49/50], Val Loss: 0.7431, Val Mean IoU: 0.4264\n",
      "Validation IoU per Class:\n",
      "  film: 0.5696\n",
      "  basket: 0.6880\n",
      "  cardboard: 0.3504\n",
      "  video_tape: 0.2599\n",
      "  filament: 0.1171\n",
      "  bag: 0.5733\n",
      "Classes present in predictions: ['film', 'basket', 'cardboard', 'video_tape', 'filament', 'bag']\n",
      "Classes present in ground truth: ['film', 'basket', 'cardboard', 'video_tape', 'filament', 'bag']\n",
      "--------------------------------------------------\n",
      "\n",
      "Epoch 50/50\n"
     ]
    },
    {
     "name": "stderr",
     "output_type": "stream",
     "text": [
      "Training: 100%|██████████| 26/26 [00:03<00:00,  7.90it/s, loss=0.196]\n"
     ]
    },
    {
     "name": "stdout",
     "output_type": "stream",
     "text": [
      "Epoch [50/50], Train Loss: 0.2292, Train Mean IoU: 0.6575\n",
      "Train IoU per Class:\n",
      "  film: 0.8850\n",
      "  basket: 0.8326\n",
      "  cardboard: 0.8210\n",
      "  video_tape: 0.3991\n",
      "  filament: 0.1427\n",
      "  bag: 0.8646\n"
     ]
    },
    {
     "name": "stderr",
     "output_type": "stream",
     "text": [
      "Validation: 100%|██████████| 7/7 [00:00<00:00, 14.21it/s]\n"
     ]
    },
    {
     "name": "stdout",
     "output_type": "stream",
     "text": [
      "Epoch [50/50], Val Loss: 0.7597, Val Mean IoU: 0.4293\n",
      "Validation IoU per Class:\n",
      "  film: 0.5570\n",
      "  basket: 0.6936\n",
      "  cardboard: 0.3595\n",
      "  video_tape: 0.2852\n",
      "  filament: 0.1146\n",
      "  bag: 0.5658\n",
      "Classes present in predictions: ['film', 'basket', 'cardboard', 'video_tape', 'filament', 'bag']\n",
      "Classes present in ground truth: ['film', 'basket', 'cardboard', 'video_tape', 'filament', 'bag']\n",
      "New best IoU achieved: 0.4293 (previous: 0.4268)\n",
      "Best model saved!\n",
      "--------------------------------------------------\n",
      "Loading best model for final evaluation...\n",
      "Final Model Evaluation:\n"
     ]
    },
    {
     "name": "stderr",
     "output_type": "stream",
     "text": [
      "Evaluating Training Set: 100%|██████████| 26/26 [00:02<00:00, 12.23it/s]\n"
     ]
    },
    {
     "name": "stdout",
     "output_type": "stream",
     "text": [
      "Training Set Results:\n",
      "Loss: 0.2238\n",
      "Mean IoU: 0.6575\n",
      "IoU per Class:\n",
      "  film: 0.8850\n",
      "  basket: 0.8326\n",
      "  cardboard: 0.8210\n",
      "  video_tape: 0.3991\n",
      "  filament: 0.1427\n",
      "  bag: 0.8646\n",
      "--------------------------------------------------\n"
     ]
    },
    {
     "name": "stderr",
     "output_type": "stream",
     "text": [
      "Evaluating Validation Set: 100%|██████████| 7/7 [00:00<00:00, 13.87it/s]"
     ]
    },
    {
     "name": "stdout",
     "output_type": "stream",
     "text": [
      "Validation Set Results:\n",
      "Loss: 0.7757\n",
      "Mean IoU: 0.4293\n",
      "IoU per Class:\n",
      "  film: 0.5570\n",
      "  basket: 0.6936\n",
      "  cardboard: 0.3595\n",
      "  video_tape: 0.2852\n",
      "  filament: 0.1146\n",
      "  bag: 0.5658\n",
      "--------------------------------------------------\n",
      "Training and evaluation complete!\n"
     ]
    },
    {
     "name": "stderr",
     "output_type": "stream",
     "text": [
      "\n"
     ]
    }
   ],
   "source": [
    "import torch\n",
    "import torch.nn as nn\n",
    "import torch.nn.functional as F\n",
    "import torchvision.models as models\n",
    "from torch.utils.data import DataLoader, Dataset\n",
    "from torchvision.transforms import Compose, ToTensor, Normalize, ColorJitter, RandomHorizontalFlip, RandomRotation\n",
    "from PIL import Image\n",
    "import os\n",
    "import numpy as np\n",
    "import random\n",
    "from tqdm import tqdm\n",
    "from sklearn.model_selection import StratifiedShuffleSplit\n",
    "from sklearn.utils.class_weight import compute_class_weight\n",
    "\n",
    "# =============================== #\n",
    "#      Define Class Information   #\n",
    "# =============================== #\n",
    "\n",
    "# Simplified class representation using lists instead of namedtuples\n",
    "class_names = [\"background\", \"film\", \"basket\", \"cardboard\", \"video_tape\", \"filament\", \"bag\"]\n",
    "ignore_in_eval = [True, False, False, False, False, False, False]  # Only ignore background\n",
    "class_colors = [(0, 0, 0), (255, 0, 0), (0, 255, 0), (0, 0, 255), (255, 255, 0), (255, 0, 255), (0, 255, 255)]\n",
    "num_classes = len(class_names)\n",
    "\n",
    "# =============================== #\n",
    "#        Define Device            #\n",
    "# =============================== #\n",
    "\n",
    "device = torch.device(\"cuda\" if torch.cuda.is_available() else \"cpu\")\n",
    "print(f\"Using device: {device}\")\n",
    "\n",
    "# =============================== #\n",
    "#     Set Seed for Reproducibility #\n",
    "# =============================== #\n",
    "\n",
    "def set_seed(seed):\n",
    "    random.seed(seed)\n",
    "    np.random.seed(seed)\n",
    "    torch.manual_seed(seed)\n",
    "    if torch.cuda.is_available():\n",
    "        torch.cuda.manual_seed(seed)\n",
    "        torch.cuda.manual_seed_all(seed)\n",
    "        torch.backends.cudnn.deterministic = True\n",
    "        torch.backends.cudnn.benchmark = False\n",
    "\n",
    "set_seed(42)\n",
    "\n",
    "# =============================== #\n",
    "#       Define Dataset Class      #\n",
    "# =============================== #\n",
    "\n",
    "class SegmentationDataset(Dataset):\n",
    "    def __init__(self, img_dir, mask_dir, image_transform=None, mask_transform=None):\n",
    "        self.img_dir = img_dir\n",
    "        self.mask_dir = mask_dir\n",
    "        self.image_transform = image_transform\n",
    "        self.mask_transform = mask_transform\n",
    "        \n",
    "        # Get sorted image and mask filenames\n",
    "        self.image_filenames = sorted([f for f in os.listdir(img_dir) if f.lower().endswith(('.png', '.jpg', '.jpeg'))])\n",
    "        self.mask_filenames = sorted([f for f in os.listdir(mask_dir) if f.lower().endswith(('.png', '.jpg', '.jpeg'))])\n",
    "        \n",
    "        # Verify we found all files\n",
    "        if len(self.image_filenames) != len(self.mask_filenames):\n",
    "            raise ValueError(f\"Found {len(self.image_filenames)} images but {len(self.mask_filenames)} masks\")\n",
    "            \n",
    "        print(f\"Dataset created with {len(self.image_filenames)} samples\")\n",
    "\n",
    "    def __len__(self):\n",
    "        return len(self.image_filenames)\n",
    "\n",
    "    def __getitem__(self, idx):\n",
    "        img_path = os.path.join(self.img_dir, self.image_filenames[idx])\n",
    "        mask_path = os.path.join(self.mask_dir, self.mask_filenames[idx])\n",
    "\n",
    "        # Load image and mask\n",
    "        image = Image.open(img_path).convert(\"RGB\")\n",
    "        mask = Image.open(mask_path)\n",
    "\n",
    "        # Ensure identical transformations are applied to both image and mask\n",
    "        if self.image_transform and self.mask_transform:\n",
    "            seed = torch.randint(0, 2**32, (1,)).item()\n",
    "            \n",
    "            torch.manual_seed(seed)\n",
    "            random.seed(seed)\n",
    "            image = self.image_transform(image)\n",
    "\n",
    "            torch.manual_seed(seed)\n",
    "            random.seed(seed)\n",
    "            mask = self.mask_transform(mask)\n",
    "        elif self.image_transform:\n",
    "            image = self.image_transform(image)\n",
    "\n",
    "        # Convert mask to tensor\n",
    "        mask_tensor = torch.tensor(np.array(mask), dtype=torch.long)\n",
    "\n",
    "        return image, mask_tensor\n",
    "\n",
    "# =============================== #\n",
    "#        Define Transformations   #\n",
    "# =============================== #\n",
    "\n",
    "train_image_transform = Compose([\n",
    "    ColorJitter(brightness=0.2, contrast=0.2, saturation=0.2, hue=0.05),\n",
    "    RandomHorizontalFlip(p=0.5),\n",
    "    RandomRotation(degrees=20),\n",
    "    ToTensor(),\n",
    "    Normalize(mean=[0.485, 0.456, 0.406], std=[0.229, 0.224, 0.225])\n",
    "])\n",
    "\n",
    "train_mask_transform = Compose([\n",
    "    RandomHorizontalFlip(p=0.5),\n",
    "    RandomRotation(degrees=20)\n",
    "])\n",
    "\n",
    "val_image_transform = Compose([\n",
    "    ToTensor(),\n",
    "    Normalize(mean=[0.485, 0.456, 0.406], std=[0.229, 0.224, 0.225])\n",
    "])\n",
    "\n",
    "val_mask_transform = None  # No transformations for validation masks\n",
    "\n",
    "# =============================== #\n",
    "#      Function to generate stratification labels\n",
    "# =============================== #\n",
    "\n",
    "def get_labels(dataset):\n",
    "    \"\"\"Generate labels for stratified split based on presence of foreground classes\"\"\"\n",
    "    labels = []\n",
    "    for i in range(len(dataset)):\n",
    "        _, mask = dataset[i]\n",
    "        mask_np = mask.numpy()\n",
    "        # 1 if any foreground class is present, 0 otherwise\n",
    "        labels.append(1 if np.any(mask_np > 0) else 0)\n",
    "    return labels\n",
    "\n",
    "# =============================== #\n",
    "#        Dataset Setup with Stratified Split\n",
    "# =============================== #\n",
    "\n",
    "# Directory paths\n",
    "img_dir = \"./rgb/train\"\n",
    "mask_dir = \"./labels_rgb/train\"\n",
    "\n",
    "# Initialize dataset\n",
    "full_dataset = SegmentationDataset(\n",
    "    img_dir=img_dir,\n",
    "    mask_dir=mask_dir,\n",
    "    image_transform=None,  # No transforms yet\n",
    "    mask_transform=None\n",
    ")\n",
    "\n",
    "# Get stratification labels\n",
    "print(\"Generating stratification labels...\")\n",
    "labels = get_labels(full_dataset)\n",
    "print(f\"Found {sum(labels)} images with foreground classes and {len(labels) - sum(labels)} background-only images\")\n",
    "\n",
    "# Perform stratified split\n",
    "split = StratifiedShuffleSplit(n_splits=1, test_size=0.2, random_state=42)\n",
    "train_idx, val_idx = next(split.split(np.zeros(len(labels)), labels))\n",
    "\n",
    "# Create train and validation subsets\n",
    "train_dataset = torch.utils.data.Subset(full_dataset, train_idx)\n",
    "val_dataset = torch.utils.data.Subset(full_dataset, val_idx)\n",
    "\n",
    "print(f\"Split dataset: {len(train_dataset)} training samples, {len(val_dataset)} validation samples\")\n",
    "\n",
    "# Apply appropriate transforms to each subset\n",
    "train_dataset.dataset.image_transform = train_image_transform\n",
    "train_dataset.dataset.mask_transform = train_mask_transform\n",
    "val_dataset.dataset.image_transform = val_image_transform\n",
    "val_dataset.dataset.mask_transform = val_mask_transform\n",
    "\n",
    "# DataLoaders\n",
    "batch_size = 16\n",
    "train_loader = DataLoader(train_dataset, batch_size=batch_size, shuffle=True)\n",
    "val_loader = DataLoader(val_dataset, batch_size=batch_size, shuffle=False)\n",
    "\n",
    "# =============================== #\n",
    "#        Define U-Net Model       #\n",
    "# =============================== #\n",
    "\n",
    "class UNet(nn.Module):\n",
    "    def __init__(self, num_classes):\n",
    "        super(UNet, self).__init__()\n",
    "        # Load a pretrained ResNet34 as encoder with specific weights version\n",
    "        self.encoder = models.resnet34(weights=models.ResNet34_Weights.IMAGENET1K_V1)\n",
    "        \n",
    "        # Extract different stages of the ResNet\n",
    "        self.initial = nn.Sequential(*list(self.encoder.children())[:3])\n",
    "        self.maxpool = list(self.encoder.children())[3]\n",
    "        self.encoder1 = list(self.encoder.children())[4]\n",
    "        self.encoder2 = list(self.encoder.children())[5]\n",
    "        self.encoder3 = list(self.encoder.children())[6]\n",
    "        self.encoder4 = list(self.encoder.children())[7]\n",
    "\n",
    "        # Decoder stages\n",
    "        self.upconv4 = self.up_conv(512, 256)\n",
    "        self.decoder4 = self.decoder_block(512, 256)\n",
    "        self.upconv3 = self.up_conv(256, 128)\n",
    "        self.decoder3 = self.decoder_block(256, 128)\n",
    "        self.upconv2 = self.up_conv(128, 64)\n",
    "        self.decoder2 = self.decoder_block(128, 64)\n",
    "        self.upconv1 = self.up_conv(64, 64)\n",
    "        self.decoder1 = self.decoder_block(128, 64)\n",
    "        \n",
    "        # Final layer for classification\n",
    "        self.conv_last = nn.Conv2d(64, num_classes, kernel_size=1)\n",
    "    \n",
    "    def up_conv(self, in_channels, out_channels):\n",
    "        return nn.ConvTranspose2d(in_channels, out_channels, kernel_size=2, stride=2)\n",
    "\n",
    "    def decoder_block(self, in_channels, out_channels):\n",
    "        return nn.Sequential(\n",
    "            nn.Conv2d(in_channels, out_channels, kernel_size=3, padding=1),\n",
    "            nn.BatchNorm2d(out_channels),\n",
    "            nn.ReLU(inplace=True),\n",
    "            nn.Conv2d(out_channels, out_channels, kernel_size=3, padding=1),\n",
    "            nn.BatchNorm2d(out_channels),\n",
    "            nn.ReLU(inplace=True)\n",
    "        )\n",
    "\n",
    "    def forward(self, x):\n",
    "        # Encoder path\n",
    "        x0 = self.initial(x)  # Initial conv layers\n",
    "        x1 = self.maxpool(x0)\n",
    "        x1 = self.encoder1(x1)  # First encoder block\n",
    "        x2 = self.encoder2(x1)  # Second encoder block\n",
    "        x3 = self.encoder3(x2)  # Third encoder block\n",
    "        x4 = self.encoder4(x3)  # Fourth encoder block\n",
    "    \n",
    "        # Decoder path with skip connections\n",
    "        d4 = self.upconv4(x4)\n",
    "        d4 = torch.cat((d4, x3), dim=1)  # Skip connection from encoder3\n",
    "        d4 = self.decoder4(d4)\n",
    "    \n",
    "        d3 = self.upconv3(d4)\n",
    "        d3 = torch.cat((d3, x2), dim=1)  # Skip connection from encoder2\n",
    "        d3 = self.decoder3(d3)\n",
    "    \n",
    "        d2 = self.upconv2(d3)\n",
    "        d2 = torch.cat((d2, x1), dim=1)  # Skip connection from encoder1\n",
    "        d2 = self.decoder2(d2)\n",
    "    \n",
    "        d1 = self.upconv1(d2)\n",
    "        d1 = torch.cat((d1, x0), dim=1)  # Skip connection from initial\n",
    "        d1 = self.decoder1(d1)\n",
    "    \n",
    "        # Ensure output size matches input size (256x256)\n",
    "        output = F.interpolate(d1, size=(256, 256), mode=\"bilinear\", align_corners=True)\n",
    "        return self.conv_last(output)\n",
    "\n",
    "# Initialize the model\n",
    "model = UNet(num_classes=num_classes).to(device)\n",
    "\n",
    "# =============================== #\n",
    "#       Compute Class Weights     #\n",
    "# =============================== #\n",
    "\n",
    "def compute_class_weights(dataset):\n",
    "    \"\"\"Use scikit-learn's compute_class_weight for better class weighting\"\"\"\n",
    "    print(\"Computing class weights...\")\n",
    "    \n",
    "    # Collect all mask labels\n",
    "    mask_flat = []\n",
    "    num_samples = min(500, len(dataset))  # Sample a subset for efficiency\n",
    "    indices = random.sample(range(len(dataset)), num_samples)\n",
    "    \n",
    "    for idx in tqdm(indices, desc=\"Collecting mask pixels\"):\n",
    "        _, mask = dataset[idx]\n",
    "        mask_flat.extend(mask.numpy().flatten())\n",
    "    \n",
    "    # Compute balanced class weights\n",
    "    class_weights = compute_class_weight(\n",
    "        class_weight=\"balanced\",\n",
    "        classes=np.arange(num_classes),\n",
    "        y=mask_flat\n",
    "    )\n",
    "    \n",
    "    # Adjust background weight\n",
    "    if ignore_in_eval[0]:  # If background is ignored in evaluation\n",
    "        class_weights[0] *= 0.1  # Reduce background weight\n",
    "    \n",
    "    weights_tensor = torch.tensor(class_weights, dtype=torch.float).to(device)\n",
    "    print(\"Computed class weights:\", weights_tensor)\n",
    "    \n",
    "    return weights_tensor\n",
    "\n",
    "# Compute class weights for the loss function\n",
    "class_weights = compute_class_weights(train_dataset)\n",
    "\n",
    "# =============================== #\n",
    "#      Define Loss Functions      #\n",
    "# =============================== #\n",
    "\n",
    "# Define Dice Loss\n",
    "class DiceLoss(nn.Module):\n",
    "    def __init__(self, smooth=1e-6):\n",
    "        super(DiceLoss, self).__init__()\n",
    "        self.smooth = smooth\n",
    "    \n",
    "    def forward(self, inputs, targets):\n",
    "        inputs_soft = F.softmax(inputs, dim=1)\n",
    "        targets_onehot = F.one_hot(targets, num_classes=inputs.shape[1]).permute(0, 3, 1, 2).float()\n",
    "        intersection = torch.sum(inputs_soft * targets_onehot, dim=(0, 2, 3))\n",
    "        union = torch.sum(inputs_soft + targets_onehot, dim=(0, 2, 3))\n",
    "        dice = (2. * intersection + self.smooth) / (union + self.smooth)\n",
    "        return 1 - dice.mean()\n",
    "\n",
    "# Define Focal Loss\n",
    "class FocalLoss(nn.Module):\n",
    "    def __init__(self, gamma=2, weight=None):\n",
    "        super(FocalLoss, self).__init__()\n",
    "        self.gamma = gamma\n",
    "        self.ce = nn.CrossEntropyLoss(weight=weight)\n",
    "    def forward(self, inputs, targets):\n",
    "        log_probs = F.log_softmax(inputs, dim=1)\n",
    "        probs = torch.exp(log_probs)\n",
    "        loss = (1 - probs) ** self.gamma * self.ce(inputs, targets)\n",
    "        return loss.mean()\n",
    "\n",
    "# Define combined loss function (Focal Loss + Dice Loss)\n",
    "criterion = lambda outputs, targets: 0.5 * FocalLoss(weight=class_weights)(outputs, targets) + 0.5 * DiceLoss()(outputs, targets)\n",
    "\n",
    "# =============================== #\n",
    "#       Define Optimizer & LR Scheduler \n",
    "# =============================== #\n",
    "\n",
    "# Define optimizer\n",
    "optimizer = torch.optim.AdamW(model.parameters(), lr=1e-4, weight_decay=1e-5)\n",
    "\n",
    "# Define learning rate scheduler\n",
    "scheduler = torch.optim.lr_scheduler.ReduceLROnPlateau(\n",
    "    optimizer,\n",
    "    mode='max',  # Maximize IoU\n",
    "    factor=0.5,  # Reduce LR by half when plateauing\n",
    "    patience=5,  # Wait 5 epochs before reducing LR\n",
    "    min_lr=1e-6  # Minimum LR\n",
    ")\n",
    "\n",
    "# =============================== #\n",
    "#        IoU Calculation         #\n",
    "# =============================== #\n",
    "\n",
    "def calculate_iou(preds, masks, num_classes):\n",
    "    \"\"\"Calculate IoU for each class and mean IoU.\"\"\"\n",
    "    intersection = torch.zeros(num_classes).to(device)\n",
    "    union = torch.zeros(num_classes).to(device)\n",
    "\n",
    "    # Count presence of each class for debugging\n",
    "    class_in_pred = [False] * num_classes\n",
    "    class_in_target = [False] * num_classes\n",
    "\n",
    "    for cls in range(num_classes):\n",
    "        if ignore_in_eval[cls]:\n",
    "            continue  # Skip background class in IoU calculation\n",
    "\n",
    "        pred_inds = (preds == cls)\n",
    "        target_inds = (masks == cls)\n",
    "        \n",
    "        # Check if class exists in predictions and targets\n",
    "        class_in_pred[cls] = pred_inds.any().item()\n",
    "        class_in_target[cls] = target_inds.any().item()\n",
    "\n",
    "        intersection[cls] += (pred_inds & target_inds).sum().float()\n",
    "        union[cls] += (pred_inds | target_inds).sum().float()\n",
    "\n",
    "    # Calculate IoU for each class\n",
    "    iou_per_class = []\n",
    "    for cls in range(num_classes):\n",
    "        if ignore_in_eval[cls]:\n",
    "            iou_per_class.append(float('nan'))  # Mark background class as NaN\n",
    "        else:\n",
    "            if union[cls] > 0:\n",
    "                iou = intersection[cls] / union[cls]\n",
    "                iou_per_class.append(iou.item())\n",
    "            else:\n",
    "                # If class is not present in either prediction or ground truth\n",
    "                iou_per_class.append(float('nan'))\n",
    "\n",
    "    # Compute mean IoU excluding background and classes not present\n",
    "    valid_ious = [iou for iou in iou_per_class if not np.isnan(iou)]\n",
    "    mean_iou = np.mean(valid_ious) if valid_ious else 0.0\n",
    "\n",
    "    return mean_iou, iou_per_class, class_in_pred, class_in_target\n",
    "\n",
    "# =============================== #\n",
    "#        Training Loop            #\n",
    "# =============================== #\n",
    "\n",
    "num_epochs = 50\n",
    "best_iou = 0.0\n",
    "history = {\n",
    "    'train_loss': [], \n",
    "    'train_iou': [], \n",
    "    'val_loss': [], \n",
    "    'val_iou': [], \n",
    "    'lr': []\n",
    "}\n",
    "\n",
    "for epoch in range(num_epochs):\n",
    "    # Training phase\n",
    "    model.train()\n",
    "    total_loss = 0.0\n",
    "    \n",
    "    print(f\"\\nEpoch {epoch+1}/{num_epochs}\")\n",
    "    \n",
    "    # Training loop\n",
    "    progress_bar = tqdm(train_loader, desc=\"Training\")\n",
    "    for images, masks in progress_bar:\n",
    "        images, masks = images.to(device), masks.to(device)\n",
    "        \n",
    "        # Forward pass\n",
    "        optimizer.zero_grad()\n",
    "        outputs = model(images)\n",
    "        loss = criterion(outputs, masks)\n",
    "        \n",
    "        # Backward pass\n",
    "        loss.backward()\n",
    "        optimizer.step()\n",
    "        \n",
    "        # Update metrics\n",
    "        total_loss += loss.item()\n",
    "        progress_bar.set_postfix(loss=loss.item())\n",
    "    \n",
    "    # Calculate average training loss\n",
    "    avg_train_loss = total_loss / len(train_loader)\n",
    "    history['train_loss'].append(avg_train_loss)\n",
    "    history['lr'].append(optimizer.param_groups[0]['lr'])\n",
    "    \n",
    "    # Calculate training IoU\n",
    "    model.eval()\n",
    "    train_preds, train_masks = [], []\n",
    "    with torch.no_grad():\n",
    "        for images, masks in train_loader:\n",
    "            images, masks = images.to(device), masks.to(device)\n",
    "            outputs = model(images)\n",
    "            preds = torch.argmax(outputs, dim=1)\n",
    "            train_preds.append(preds)\n",
    "            train_masks.append(masks)\n",
    "    \n",
    "    train_preds = torch.cat(train_preds, dim=0)\n",
    "    train_masks = torch.cat(train_masks, dim=0)\n",
    "    train_mean_iou, train_iou_per_class, _, _ = calculate_iou(train_preds, train_masks, num_classes)\n",
    "    history['train_iou'].append(train_mean_iou)\n",
    "    \n",
    "    print(f\"Epoch [{epoch+1}/{num_epochs}], Train Loss: {avg_train_loss:.4f}, Train Mean IoU: {train_mean_iou:.4f}\")\n",
    "    print(\"Train IoU per Class:\")\n",
    "    for cls in range(num_classes):\n",
    "        if not ignore_in_eval[cls]:\n",
    "            class_iou = train_iou_per_class[cls]\n",
    "            if not np.isnan(class_iou):\n",
    "                print(f\"  {class_names[cls]}: {class_iou:.4f}\")\n",
    "            else:\n",
    "                print(f\"  {class_names[cls]}: N/A (not present)\")\n",
    "    \n",
    "    # Validation phase\n",
    "    model.eval()\n",
    "    val_loss = 0.0\n",
    "    val_preds, val_masks_all = [], []\n",
    "    \n",
    "    with torch.no_grad():\n",
    "        for images, masks in tqdm(val_loader, desc=\"Validation\"):\n",
    "            images, masks = images.to(device), masks.to(device)\n",
    "            outputs = model(images)\n",
    "            loss = criterion(outputs, masks)\n",
    "            val_loss += loss.item()\n",
    "            \n",
    "            preds = torch.argmax(outputs, dim=1)\n",
    "            val_preds.append(preds)\n",
    "            val_masks_all.append(masks)\n",
    "    \n",
    "    # Calculate validation metrics\n",
    "    avg_val_loss = val_loss / len(val_loader)\n",
    "    history['val_loss'].append(avg_val_loss)\n",
    "    \n",
    "    val_preds = torch.cat(val_preds, dim=0)\n",
    "    val_masks_all = torch.cat(val_masks_all, dim=0)\n",
    "    val_mean_iou, val_iou_per_class, classes_in_pred, classes_in_gt = calculate_iou(val_preds, val_masks_all, num_classes)\n",
    "    history['val_iou'].append(val_mean_iou)\n",
    "    \n",
    "    print(f\"Epoch [{epoch+1}/{num_epochs}], Val Loss: {avg_val_loss:.4f}, Val Mean IoU: {val_mean_iou:.4f}\")\n",
    "    print(\"Validation IoU per Class:\")\n",
    "    for cls in range(num_classes):\n",
    "        if not ignore_in_eval[cls]:\n",
    "            class_iou = val_iou_per_class[cls]\n",
    "            if not np.isnan(class_iou):\n",
    "                print(f\"  {class_names[cls]}: {class_iou:.4f}\")\n",
    "            else:\n",
    "                print(f\"  {class_names[cls]}: N/A (not present)\")\n",
    "    \n",
    "    # Print class presence information\n",
    "    print(\"Classes present in predictions:\", [class_names[i] for i in range(num_classes) if classes_in_pred[i]])\n",
    "    print(\"Classes present in ground truth:\", [class_names[i] for i in range(num_classes) if classes_in_gt[i]])\n",
    "    \n",
    "    # Update learning rate based on validation IoU\n",
    "    scheduler.step(val_mean_iou)\n",
    "    \n",
    "    # Save best model\n",
    "    if val_mean_iou > best_iou:\n",
    "        print(f\"New best IoU achieved: {val_mean_iou:.4f} (previous: {best_iou:.4f})\")\n",
    "        best_iou = val_mean_iou\n",
    "        torch.save(model.state_dict(), \"best_model.pth\")\n",
    "        print(\"Best model saved!\")\n",
    "    \n",
    "    print(\"-\" * 50)\n",
    "\n",
    "# =============================== #\n",
    "#        Final Evaluation         #\n",
    "# =============================== #\n",
    "\n",
    "def evaluate_model(model, loader, dataset_name):\n",
    "    model.eval()\n",
    "    total_loss = 0.0\n",
    "    all_preds, all_masks = [], []\n",
    "\n",
    "    with torch.no_grad():\n",
    "        for images, masks in tqdm(loader, desc=f\"Evaluating {dataset_name}\"):\n",
    "            images, masks = images.to(device), masks.to(device)\n",
    "            outputs = model(images)\n",
    "            loss = criterion(outputs, masks)\n",
    "            total_loss += loss.item() * images.size(0)\n",
    "            preds = torch.argmax(outputs, dim=1)\n",
    "            all_preds.append(preds)\n",
    "            all_masks.append(masks)\n",
    "\n",
    "    all_preds = torch.cat(all_preds, dim=0)\n",
    "    all_masks = torch.cat(all_masks, dim=0)\n",
    "    mean_iou, iou_per_class, _, _ = calculate_iou(all_preds, all_masks, num_classes)\n",
    "\n",
    "    total_loss /= len(loader.dataset)\n",
    "    print(f\"{dataset_name} Results:\")\n",
    "    print(f\"Loss: {total_loss:.4f}\")\n",
    "    print(f\"Mean IoU: {mean_iou:.4f}\")\n",
    "    print(\"IoU per Class:\")\n",
    "    for cls in range(num_classes):\n",
    "        if not ignore_in_eval[cls]:\n",
    "            class_iou = iou_per_class[cls]\n",
    "            if not np.isnan(class_iou):\n",
    "                print(f\"  {class_names[cls]}: {class_iou:.4f}\")\n",
    "            else:\n",
    "                print(f\"  {class_names[cls]}: N/A (not present)\")\n",
    "    print(\"-\" * 50)\n",
    "\n",
    "# Load best model for final evaluation\n",
    "print(\"Loading best model for final evaluation...\")\n",
    "model.load_state_dict(torch.load(\"best_model.pth\"))\n",
    "\n",
    "print(\"Final Model Evaluation:\")\n",
    "evaluate_model(model, train_loader, \"Training Set\")\n",
    "evaluate_model(model, val_loader, \"Validation Set\")\n",
    "\n",
    "print(\"Training and evaluation complete!\")"
   ]
  },
  {
   "cell_type": "code",
   "execution_count": null,
   "id": "658c89d9-0024-49d9-ba2e-7ce5ee69124c",
   "metadata": {},
   "outputs": [],
   "source": []
  }
 ],
 "metadata": {
  "kernelspec": {
   "display_name": "Python 3 (ipykernel)",
   "language": "python",
   "name": "python3"
  },
  "language_info": {
   "codemirror_mode": {
    "name": "ipython",
    "version": 3
   },
   "file_extension": ".py",
   "mimetype": "text/x-python",
   "name": "python",
   "nbconvert_exporter": "python",
   "pygments_lexer": "ipython3",
   "version": "3.12.7"
  }
 },
 "nbformat": 4,
 "nbformat_minor": 5
}
